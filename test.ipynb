{
 "cells": [
  {
   "cell_type": "markdown",
   "metadata": {},
   "source": [
    "# Training"
   ]
  },
  {
   "cell_type": "code",
   "execution_count": 1,
   "metadata": {},
   "outputs": [
    {
     "name": "stdout",
     "output_type": "stream",
     "text": [
      "^C\n",
      "Traceback (most recent call last):\n",
      "  File \"/home/xiaoyu/anaconda3/envs/dexmv/lib/python3.7/site-packages/lockfile/linklockfile.py\", line 31, in acquire\n",
      "    os.link(self.unique_name, self.lock_file)\n",
      "FileExistsError: [Errno 17] File exists: '/home/xiaoyu/Desktop/yogee/.mujoco/mujoco-py/mujoco_py/generated/xiaoyu-Precision-7550-618d9680.21353-6968051590476366090' -> '/home/xiaoyu/Desktop/yogee/.mujoco/mujoco-py/mujoco_py/generated/mujocopy-buildlock.lock'\n",
      "\n",
      "During handling of the above exception, another exception occurred:\n",
      "\n",
      "Traceback (most recent call last):\n",
      "  File \"train.py\", line 11, in <module>\n",
      "    from hand_imitation.env.environments.mug_place_object_env import MugPlaceObjectEnv\n",
      "  File \"/home/xiaoyu/Desktop/yogee/dex-affordance/hand_imitation_2/hand_imitation/__init__.py\", line 1, in <module>\n",
      "    import hand_imitation.env\n",
      "  File \"/home/xiaoyu/Desktop/yogee/dex-affordance/hand_imitation_2/hand_imitation/env/__init__.py\", line 1, in <module>\n",
      "    import hand_imitation.env.environments\n",
      "  File \"/home/xiaoyu/Desktop/yogee/dex-affordance/hand_imitation_2/hand_imitation/env/environments/__init__.py\", line 1, in <module>\n",
      "    from .base import REGISTERED_ENVS, MujocoEnv\n",
      "  File \"/home/xiaoyu/Desktop/yogee/dex-affordance/hand_imitation_2/hand_imitation/env/environments/base.py\", line 8, in <module>\n",
      "    from mujoco_py import MjRenderContextOffscreen, MjSim, load_model_from_xml\n",
      "  File \"/home/xiaoyu/Desktop/yogee/.mujoco/mujoco-py/mujoco_py/__init__.py\", line 3, in <module>\n",
      "    from mujoco_py.builder import cymj, ignore_mujoco_warnings, functions, MujocoException\n",
      "  File \"/home/xiaoyu/Desktop/yogee/.mujoco/mujoco-py/mujoco_py/builder.py\", line 504, in <module>\n",
      "    cymj = load_cython_ext(mujoco_path)\n",
      "  File \"/home/xiaoyu/Desktop/yogee/.mujoco/mujoco-py/mujoco_py/builder.py\", line 89, in load_cython_ext\n",
      "    with LockFile(lockpath):\n",
      "  File \"/home/xiaoyu/anaconda3/envs/dexmv/lib/python3.7/site-packages/lockfile/__init__.py\", line 197, in __enter__\n",
      "    self.acquire()\n",
      "  File \"/home/xiaoyu/anaconda3/envs/dexmv/lib/python3.7/site-packages/lockfile/linklockfile.py\", line 50, in acquire\n",
      "    time.sleep(timeout is not None and timeout / 10 or 0.1)\n",
      "KeyboardInterrupt\n"
     ]
    }
   ],
   "source": [
    "import os\n",
    "os.chdir( '/home/xiaoyu/Desktop/yogee/dexmv-sim/examples/')\n",
    "\n",
    "!python train.py --cfg configs/dapg-mug-example.yaml  # run this in the `example` directory"
   ]
  },
  {
   "cell_type": "markdown",
   "metadata": {},
   "source": [
    "# Visualizing training results from log"
   ]
  },
  {
   "cell_type": "code",
   "execution_count": 5,
   "metadata": {},
   "outputs": [
    {
     "name": "stdout",
     "output_type": "stream",
     "text": [
      "Creating window glfw\n",
      "2024-07-15 15:12:46.275340: I tensorflow/core/platform/cpu_feature_guard.cc:193] This TensorFlow binary is optimized with oneAPI Deep Neural Network Library (oneDNN) to use the following CPU instructions in performance-critical operations:  AVX2 FMA\n",
      "To enable them in other operations, rebuild TensorFlow with the appropriate compiler flags.\n",
      "2024-07-15 15:12:46.952067: W tensorflow/compiler/xla/stream_executor/platform/default/dso_loader.cc:64] Could not load dynamic library 'libnvinfer.so.7'; dlerror: libnvinfer.so.7: cannot open shared object file: No such file or directory; LD_LIBRARY_PATH: /usr/local/cuda-11.8/lib64:/usr/local/cuda/lib64:/usr/lib/nvidia:/opt/ros/foxy/opt/yaml_cpp_vendor/lib:/opt/ros/foxy/opt/rviz_ogre_vendor/lib:/opt/ros/foxy/lib/x86_64-linux-gnu:/opt/ros/foxy/lib:/home/xiaoyu/Desktop/yogee/.mujoco/mujoco200/bin\n",
      "2024-07-15 15:12:46.952246: W tensorflow/compiler/xla/stream_executor/platform/default/dso_loader.cc:64] Could not load dynamic library 'libnvinfer_plugin.so.7'; dlerror: libnvinfer_plugin.so.7: cannot open shared object file: No such file or directory; LD_LIBRARY_PATH: /usr/local/cuda-11.8/lib64:/usr/local/cuda/lib64:/usr/lib/nvidia:/opt/ros/foxy/opt/yaml_cpp_vendor/lib:/opt/ros/foxy/opt/rviz_ogre_vendor/lib:/opt/ros/foxy/lib/x86_64-linux-gnu:/opt/ros/foxy/lib:/home/xiaoyu/Desktop/yogee/.mujoco/mujoco200/bin\n",
      "2024-07-15 15:12:46.952253: W tensorflow/compiler/tf2tensorrt/utils/py_utils.cc:38] TF-TRT Warning: Cannot dlopen some TensorRT libraries. If you would like to use Nvidia GPU with TensorRT, please make sure the missing libraries mentioned above are installed properly.\n",
      "total reward 6.117858814625181\n",
      "total reward 6.237505345816191\n",
      "total reward 6.447485233802414\n",
      "total reward 6.292926670468687\n",
      "free(): invalid pointer\n"
     ]
    }
   ],
   "source": [
    "import os\n",
    "os.chdir( '/home/xiaoyu/Desktop/yogee/dexmv-sim/examples/')\n",
    "\n",
    "# !python3 visualize_policy.py --env_name='iterations/best_policy' --object_name=mustard_bottle\n",
    "!python3 visualize_policy.py --env_name='iterations/best_policy' --object_name=mug"
   ]
  },
  {
   "cell_type": "code",
   "execution_count": 8,
   "metadata": {},
   "outputs": [
    {
     "name": "stdout",
     "output_type": "stream",
     "text": [
      "Creating window glfw\n",
      "2024-07-09 10:06:38.083912: I tensorflow/core/platform/cpu_feature_guard.cc:193] This TensorFlow binary is optimized with oneAPI Deep Neural Network Library (oneDNN) to use the following CPU instructions in performance-critical operations:  AVX2 FMA\n",
      "To enable them in other operations, rebuild TensorFlow with the appropriate compiler flags.\n",
      "2024-07-09 10:06:39.295146: W tensorflow/compiler/xla/stream_executor/platform/default/dso_loader.cc:64] Could not load dynamic library 'libnvinfer.so.7'; dlerror: libnvinfer.so.7: cannot open shared object file: No such file or directory; LD_LIBRARY_PATH: /usr/local/cuda-11.8/lib64:/usr/local/cuda/lib64:/usr/lib/nvidia:/opt/ros/foxy/opt/yaml_cpp_vendor/lib:/opt/ros/foxy/opt/rviz_ogre_vendor/lib:/opt/ros/foxy/lib/x86_64-linux-gnu:/opt/ros/foxy/lib:/home/xiaoyu/Desktop/yogee/.mujoco/mujoco200/bin\n",
      "2024-07-09 10:06:39.295279: W tensorflow/compiler/xla/stream_executor/platform/default/dso_loader.cc:64] Could not load dynamic library 'libnvinfer_plugin.so.7'; dlerror: libnvinfer_plugin.so.7: cannot open shared object file: No such file or directory; LD_LIBRARY_PATH: /usr/local/cuda-11.8/lib64:/usr/local/cuda/lib64:/usr/lib/nvidia:/opt/ros/foxy/opt/yaml_cpp_vendor/lib:/opt/ros/foxy/opt/rviz_ogre_vendor/lib:/opt/ros/foxy/lib/x86_64-linux-gnu:/opt/ros/foxy/lib:/home/xiaoyu/Desktop/yogee/.mujoco/mujoco200/bin\n",
      "2024-07-09 10:06:39.295293: W tensorflow/compiler/tf2tensorrt/utils/py_utils.cc:38] TF-TRT Warning: Cannot dlopen some TensorRT libraries. If you would like to use Nvidia GPU with TensorRT, please make sure the missing libraries mentioned above are installed properly.\n",
      "total reward 7.255484578856385\n",
      "total reward 5.636942995995655\n",
      "total reward 35.64065036420496\n",
      "free(): invalid pointer\n"
     ]
    }
   ],
   "source": [
    "import os\n",
    "os.chdir( '/home/xiaoyu/Desktop/yogee/dexmv-sim/examples/')\n",
    "\n",
    "# !python3 visualize_policy.py --env_name='iterations/policy_300' --object_name=mustard_bottle\n",
    "!python3 visualize_policy.py --env_name='iterations/policy_300' --object_name=mug"
   ]
  },
  {
   "cell_type": "markdown",
   "metadata": {},
   "source": [
    "# Visualizing policies"
   ]
  },
  {
   "cell_type": "code",
   "execution_count": 1,
   "metadata": {},
   "outputs": [
    {
     "name": "stdout",
     "output_type": "stream",
     "text": [
      "Creating window glfw\n",
      "2024-07-15 14:04:51.048918: I tensorflow/core/platform/cpu_feature_guard.cc:193] This TensorFlow binary is optimized with oneAPI Deep Neural Network Library (oneDNN) to use the following CPU instructions in performance-critical operations:  AVX2 FMA\n",
      "To enable them in other operations, rebuild TensorFlow with the appropriate compiler flags.\n",
      "2024-07-15 14:04:52.991578: W tensorflow/compiler/xla/stream_executor/platform/default/dso_loader.cc:64] Could not load dynamic library 'libnvinfer.so.7'; dlerror: libnvinfer.so.7: cannot open shared object file: No such file or directory; LD_LIBRARY_PATH: /usr/local/cuda-11.8/lib64:/usr/local/cuda/lib64:/usr/lib/nvidia:/opt/ros/foxy/opt/yaml_cpp_vendor/lib:/opt/ros/foxy/opt/rviz_ogre_vendor/lib:/opt/ros/foxy/lib/x86_64-linux-gnu:/opt/ros/foxy/lib:/home/xiaoyu/Desktop/yogee/.mujoco/mujoco200/bin\n",
      "2024-07-15 14:04:52.991737: W tensorflow/compiler/xla/stream_executor/platform/default/dso_loader.cc:64] Could not load dynamic library 'libnvinfer_plugin.so.7'; dlerror: libnvinfer_plugin.so.7: cannot open shared object file: No such file or directory; LD_LIBRARY_PATH: /usr/local/cuda-11.8/lib64:/usr/local/cuda/lib64:/usr/lib/nvidia:/opt/ros/foxy/opt/yaml_cpp_vendor/lib:/opt/ros/foxy/opt/rviz_ogre_vendor/lib:/opt/ros/foxy/lib/x86_64-linux-gnu:/opt/ros/foxy/lib:/home/xiaoyu/Desktop/yogee/.mujoco/mujoco200/bin\n",
      "2024-07-15 14:04:52.991753: W tensorflow/compiler/tf2tensorrt/utils/py_utils.cc:38] TF-TRT Warning: Cannot dlopen some TensorRT libraries. If you would like to use Nvidia GPU with TensorRT, please make sure the missing libraries mentioned above are installed properly.\n",
      "total reward -3.0816601141844027\n",
      "total reward -2.802956727576482\n",
      "total reward -3.026280422768221\n",
      "total reward -2.7124557047872235\n",
      "total reward -3.0871610970505006\n",
      "total reward -3.0283534706299844\n",
      "total reward -3.138831108840492\n",
      "total reward -3.457853648800348\n",
      "total reward -3.2190436387268386\n",
      "total reward -3.366834760344301\n",
      "total reward -3.083638734684142\n",
      "total reward -3.093822217987582\n",
      "total reward -2.7570401886613998\n",
      "total reward -3.0281025735237956\n",
      "total reward -3.0784488482900727\n",
      "free(): invalid pointer\n"
     ]
    }
   ],
   "source": [
    "import os\n",
    "os.chdir( '/home/xiaoyu/Desktop/yogee/dexmv-sim/examples/')\n",
    "\n",
    "!python3 visualize_policy.py --env_name=trained_model_old/old_800 --object_name=mug"
   ]
  },
  {
   "cell_type": "code",
   "execution_count": 7,
   "metadata": {},
   "outputs": [
    {
     "name": "stdout",
     "output_type": "stream",
     "text": [
      "Creating window glfw\n",
      "2024-07-15 10:47:38.131127: I tensorflow/core/platform/cpu_feature_guard.cc:193] This TensorFlow binary is optimized with oneAPI Deep Neural Network Library (oneDNN) to use the following CPU instructions in performance-critical operations:  AVX2 FMA\n",
      "To enable them in other operations, rebuild TensorFlow with the appropriate compiler flags.\n",
      "2024-07-15 10:47:38.812326: W tensorflow/compiler/xla/stream_executor/platform/default/dso_loader.cc:64] Could not load dynamic library 'libnvinfer.so.7'; dlerror: libnvinfer.so.7: cannot open shared object file: No such file or directory; LD_LIBRARY_PATH: /usr/local/cuda-11.8/lib64:/usr/local/cuda/lib64:/usr/lib/nvidia:/opt/ros/foxy/opt/yaml_cpp_vendor/lib:/opt/ros/foxy/opt/rviz_ogre_vendor/lib:/opt/ros/foxy/lib/x86_64-linux-gnu:/opt/ros/foxy/lib:/home/xiaoyu/Desktop/yogee/.mujoco/mujoco200/bin\n",
      "2024-07-15 10:47:38.812468: W tensorflow/compiler/xla/stream_executor/platform/default/dso_loader.cc:64] Could not load dynamic library 'libnvinfer_plugin.so.7'; dlerror: libnvinfer_plugin.so.7: cannot open shared object file: No such file or directory; LD_LIBRARY_PATH: /usr/local/cuda-11.8/lib64:/usr/local/cuda/lib64:/usr/lib/nvidia:/opt/ros/foxy/opt/yaml_cpp_vendor/lib:/opt/ros/foxy/opt/rviz_ogre_vendor/lib:/opt/ros/foxy/lib/x86_64-linux-gnu:/opt/ros/foxy/lib:/home/xiaoyu/Desktop/yogee/.mujoco/mujoco200/bin\n",
      "2024-07-15 10:47:38.812476: W tensorflow/compiler/tf2tensorrt/utils/py_utils.cc:38] TF-TRT Warning: Cannot dlopen some TensorRT libraries. If you would like to use Nvidia GPU with TensorRT, please make sure the missing libraries mentioned above are installed properly.\n",
      "total reward 137.51470376853152\n",
      "total reward 144.68506214370979\n",
      "total reward 69.89109522171927\n",
      "total reward 161.01601454088672\n",
      "total reward 62.658068084991314\n",
      "free(): invalid pointer\n"
     ]
    }
   ],
   "source": [
    "import os\n",
    "os.chdir( '/home/xiaoyu/Desktop/yogee/dexmv-sim/examples/')\n",
    "\n",
    "!python3 visualize_policy.py --env_name=trained_model_mustard_version2/best_policy --object_name=mustard_bottle"
   ]
  },
  {
   "cell_type": "markdown",
   "metadata": {},
   "source": [
    "# Test model on different objects"
   ]
  },
  {
   "cell_type": "code",
   "execution_count": 3,
   "metadata": {},
   "outputs": [
    {
     "name": "stdout",
     "output_type": "stream",
     "text": [
      "Creating window glfw\n",
      "2024-07-11 10:36:55.568396: I tensorflow/core/platform/cpu_feature_guard.cc:193] This TensorFlow binary is optimized with oneAPI Deep Neural Network Library (oneDNN) to use the following CPU instructions in performance-critical operations:  AVX2 FMA\n",
      "To enable them in other operations, rebuild TensorFlow with the appropriate compiler flags.\n",
      "2024-07-11 10:36:56.835611: W tensorflow/compiler/xla/stream_executor/platform/default/dso_loader.cc:64] Could not load dynamic library 'libnvinfer.so.7'; dlerror: libnvinfer.so.7: cannot open shared object file: No such file or directory; LD_LIBRARY_PATH: /usr/local/cuda-11.8/lib64:/usr/local/cuda/lib64:/usr/lib/nvidia:/opt/ros/foxy/opt/yaml_cpp_vendor/lib:/opt/ros/foxy/opt/rviz_ogre_vendor/lib:/opt/ros/foxy/lib/x86_64-linux-gnu:/opt/ros/foxy/lib:/home/xiaoyu/Desktop/yogee/.mujoco/mujoco200/bin\n",
      "2024-07-11 10:36:56.835785: W tensorflow/compiler/xla/stream_executor/platform/default/dso_loader.cc:64] Could not load dynamic library 'libnvinfer_plugin.so.7'; dlerror: libnvinfer_plugin.so.7: cannot open shared object file: No such file or directory; LD_LIBRARY_PATH: /usr/local/cuda-11.8/lib64:/usr/local/cuda/lib64:/usr/lib/nvidia:/opt/ros/foxy/opt/yaml_cpp_vendor/lib:/opt/ros/foxy/opt/rviz_ogre_vendor/lib:/opt/ros/foxy/lib/x86_64-linux-gnu:/opt/ros/foxy/lib:/home/xiaoyu/Desktop/yogee/.mujoco/mujoco200/bin\n",
      "2024-07-11 10:36:56.835800: W tensorflow/compiler/tf2tensorrt/utils/py_utils.cc:38] TF-TRT Warning: Cannot dlopen some TensorRT libraries. If you would like to use Nvidia GPU with TensorRT, please make sure the missing libraries mentioned above are installed properly.\n",
      "total reward -0.534798287787819\n",
      "total reward -1.3794128839973454\n",
      "total reward 7.383772460025444\n",
      "total reward 2.8417619139950148\n",
      "total reward -1.25538514355124\n",
      "total reward -2.0665411407397913\n",
      "total reward -0.6392648203168849\n",
      "total reward -1.364802388951035\n",
      "total reward -0.5320071648165597\n",
      "total reward -0.010093819503731258\n",
      "total reward 7.355634004002636\n",
      "total reward 0.8871072555204502\n",
      "total reward -0.7398484925045177\n",
      "total reward -0.17559392702720172\n",
      "total reward 7.339098392282177\n",
      "total reward 7.403300903358678\n",
      "total reward 7.857897621389213\n",
      "total reward 7.6415361820825005\n",
      "total reward 7.354066241003185\n",
      "total reward -0.35830123142197623\n",
      "total reward -0.4249045961965476\n",
      "total reward 2.9972872528745294\n",
      "total reward 7.909999458063278\n",
      "total reward 7.964722104876043\n",
      "total reward -2.11282695147872\n",
      "total reward 7.822107968597013\n",
      "total reward -0.1536485343987674\n",
      "total reward -0.9195881807432713\n",
      "free(): invalid pointer\n"
     ]
    }
   ],
   "source": [
    "import os\n",
    "os.chdir( '/home/xiaoyu/Desktop/yogee/dexmv-sim/examples/')\n",
    "\n",
    "# !python3 visualize_policy.py --env_name=test2_500 --object_name=mug\n",
    "\n",
    "# !python3 visualize_policy.py --env_name=test2_500 --object_name=tomato_soup_can\n",
    "!python3 visualize_policy.py --env_name=test2_500 --object_name=mustard_bottle\n",
    "# !python3 visualize_policy.py --env_name=test2_500 --object_name=potted_meat_can\n",
    "# !python3 visualize_policy.py --env_name=test2_500 --object_name=banana\n",
    "# !python3 visualize_policy.py --env_name=test2_500 --object_name=mug\n",
    "# !python3 visualize_policy.py --env_name=test2_500 --object_name=large_clamp\n",
    "# !python3 visualize_policy.py --env_name=test2_500 --object_name=foam_brick"
   ]
  },
  {
   "cell_type": "markdown",
   "metadata": {},
   "source": [
    "# Visualize policy with objects randomizing every time (work in progress)"
   ]
  },
  {
   "cell_type": "code",
   "execution_count": 13,
   "metadata": {},
   "outputs": [
    {
     "name": "stdout",
     "output_type": "stream",
     "text": [
      "2024-07-03 12:13:14.997785: I tensorflow/core/platform/cpu_feature_guard.cc:193] This TensorFlow binary is optimized with oneAPI Deep Neural Network Library (oneDNN) to use the following CPU instructions in performance-critical operations:  AVX2 FMA\n",
      "To enable them in other operations, rebuild TensorFlow with the appropriate compiler flags.\n",
      "2024-07-03 12:13:15.687148: W tensorflow/compiler/xla/stream_executor/platform/default/dso_loader.cc:64] Could not load dynamic library 'libnvinfer.so.7'; dlerror: libnvinfer.so.7: cannot open shared object file: No such file or directory; LD_LIBRARY_PATH: /home/xiaoyu/Desktop/yogee/.mujoco/mujoco200/bin:/usr/lib/nvidia:/home/xiaoyu/anaconda3/envs/dexmv/lib/python3.8/site-packages/tensorrt_libs:/home/xiaoyu/anaconda3/envs/dexmv/lib/python3.8/site-packages/tensorrt\n",
      "2024-07-03 12:13:15.687274: W tensorflow/compiler/xla/stream_executor/platform/default/dso_loader.cc:64] Could not load dynamic library 'libnvinfer_plugin.so.7'; dlerror: libnvinfer_plugin.so.7: cannot open shared object file: No such file or directory; LD_LIBRARY_PATH: /home/xiaoyu/Desktop/yogee/.mujoco/mujoco200/bin:/usr/lib/nvidia:/home/xiaoyu/anaconda3/envs/dexmv/lib/python3.8/site-packages/tensorrt_libs:/home/xiaoyu/anaconda3/envs/dexmv/lib/python3.8/site-packages/tensorrt\n",
      "2024-07-03 12:13:15.687282: W tensorflow/compiler/tf2tensorrt/utils/py_utils.cc:38] TF-TRT Warning: Cannot dlopen some TensorRT libraries. If you would like to use Nvidia GPU with TensorRT, please make sure the missing libraries mentioned above are installed properly.\n",
      "Creating window glfw\n",
      "Traceback (most recent call last):\n",
      "  File \"visualize_random_objects_policy.py\", line 62, in <module>\n",
      "    main()\n",
      "  File \"/home/xiaoyu/anaconda3/envs/dexmv/lib/python3.7/site-packages/click/core.py\", line 1157, in __call__\n",
      "    return self.main(*args, **kwargs)\n",
      "  File \"/home/xiaoyu/anaconda3/envs/dexmv/lib/python3.7/site-packages/click/core.py\", line 1078, in main\n",
      "    rv = self.invoke(ctx)\n",
      "  File \"/home/xiaoyu/anaconda3/envs/dexmv/lib/python3.7/site-packages/click/core.py\", line 1434, in invoke\n",
      "    return ctx.invoke(self.callback, **ctx.params)\n",
      "  File \"/home/xiaoyu/anaconda3/envs/dexmv/lib/python3.7/site-packages/click/core.py\", line 783, in invoke\n",
      "    return __callback(*args, **kwargs)\n",
      "  File \"visualize_random_objects_policy.py\", line 42, in main\n",
      "    e.set_object(object_name)\n",
      "AttributeError: 'YCBRelocate' object has no attribute 'set_object'\n"
     ]
    }
   ],
   "source": [
    "import os\n",
    "os.chdir( '/home/xiaoyu/Desktop/yogee/dexmv-sim/examples/')\n",
    "\n",
    "!python3 visualize_random_objects_policy.py --env_name=test_800\n"
   ]
  },
  {
   "cell_type": "markdown",
   "metadata": {},
   "source": [
    "# Simulation in mujoco"
   ]
  },
  {
   "cell_type": "code",
   "execution_count": 19,
   "metadata": {},
   "outputs": [
    {
     "name": "stdout",
     "output_type": "stream",
     "text": [
      "MuJoCo Pro version 2.00\n"
     ]
    }
   ],
   "source": [
    "import os\n",
    "os.chdir( '/home/xiaoyu/Desktop/yogee/.mujoco/mujoco200/bin/')\n",
    "!./simulate ~/Desktop/yogee/dexmv-sim/hand_imitation/env/models/assets/inspire/urdf/handright9253.xml \n"
   ]
  },
  {
   "cell_type": "markdown",
   "metadata": {},
   "source": [
    "# To open tensorboard"
   ]
  },
  {
   "cell_type": "code",
   "execution_count": 17,
   "metadata": {},
   "outputs": [
    {
     "name": "stdout",
     "output_type": "stream",
     "text": [
      "2024-06-28 18:12:55.260412: I tensorflow/core/platform/cpu_feature_guard.cc:193] This TensorFlow binary is optimized with oneAPI Deep Neural Network Library (oneDNN) to use the following CPU instructions in performance-critical operations:  AVX2 FMA\n",
      "To enable them in other operations, rebuild TensorFlow with the appropriate compiler flags.\n",
      "2024-06-28 18:12:55.907962: W tensorflow/compiler/xla/stream_executor/platform/default/dso_loader.cc:64] Could not load dynamic library 'libnvinfer.so.7'; dlerror: libnvinfer.so.7: cannot open shared object file: No such file or directory; LD_LIBRARY_PATH: /home/xiaoyu/Desktop/yogee/.mujoco/mujoco200/bin:/usr/lib/nvidia:/home/xiaoyu/anaconda3/envs/dexmv/lib/python3.8/site-packages/tensorrt_libs:/home/xiaoyu/anaconda3/envs/dexmv/lib/python3.8/site-packages/tensorrt\n",
      "2024-06-28 18:12:55.908030: W tensorflow/compiler/xla/stream_executor/platform/default/dso_loader.cc:64] Could not load dynamic library 'libnvinfer_plugin.so.7'; dlerror: libnvinfer_plugin.so.7: cannot open shared object file: No such file or directory; LD_LIBRARY_PATH: /home/xiaoyu/Desktop/yogee/.mujoco/mujoco200/bin:/usr/lib/nvidia:/home/xiaoyu/anaconda3/envs/dexmv/lib/python3.8/site-packages/tensorrt_libs:/home/xiaoyu/anaconda3/envs/dexmv/lib/python3.8/site-packages/tensorrt\n",
      "2024-06-28 18:12:55.908038: W tensorflow/compiler/tf2tensorrt/utils/py_utils.cc:38] TF-TRT Warning: Cannot dlopen some TensorRT libraries. If you would like to use Nvidia GPU with TensorRT, please make sure the missing libraries mentioned above are installed properly.\n",
      "2024-06-28 18:12:58.134930: I tensorflow/compiler/xla/stream_executor/cuda/cuda_gpu_executor.cc:981] successful NUMA node read from SysFS had negative value (-1), but there must be at least one NUMA node, so returning NUMA node zero\n",
      "2024-06-28 18:12:58.198487: W tensorflow/compiler/xla/stream_executor/platform/default/dso_loader.cc:64] Could not load dynamic library 'libcudnn.so.8'; dlerror: libcudnn.so.8: cannot open shared object file: No such file or directory; LD_LIBRARY_PATH: /home/xiaoyu/Desktop/yogee/.mujoco/mujoco200/bin:/usr/lib/nvidia:/home/xiaoyu/anaconda3/envs/dexmv/lib/python3.8/site-packages/tensorrt_libs:/home/xiaoyu/anaconda3/envs/dexmv/lib/python3.8/site-packages/tensorrt\n",
      "2024-06-28 18:12:58.198518: W tensorflow/core/common_runtime/gpu/gpu_device.cc:1934] Cannot dlopen some GPU libraries. Please make sure the missing libraries mentioned above are installed properly if you would like to use GPU. Follow the guide at https://www.tensorflow.org/install/gpu for how to download and setup the required libraries for your platform.\n",
      "Skipping registering GPU devices...\n",
      "\n",
      "NOTE: Using experimental fast data loading logic. To disable, pass\n",
      "    \"--load_fast=false\" and report issues on GitHub. More details:\n",
      "    https://github.com/tensorflow/tensorboard/issues/4784\n",
      "\n",
      "Serving TensorBoard on localhost; to expose to the network, use a proxy or pass --bind_all\n",
      "TensorBoard 2.11.2 at http://localhost:6006/ (Press CTRL+C to quit)\n",
      "^C\n"
     ]
    }
   ],
   "source": [
    "import os\n",
    "\n",
    "os.chdir('/home/xiaoyu/Desktop/yogee/dexmv-sim/examples/training_log/dapg_relocate-mug-0.8_relocate-mug_0.1_100_trpo_seed200/tensorboard_logs')\n",
    "!tensorboard --logdir=.\n"
   ]
  }
 ],
 "metadata": {
  "kernelspec": {
   "display_name": "Python 3 (ipykernel)",
   "language": "python",
   "name": "python3"
  },
  "language_info": {
   "codemirror_mode": {
    "name": "ipython",
    "version": 3
   },
   "file_extension": ".py",
   "mimetype": "text/x-python",
   "name": "python",
   "nbconvert_exporter": "python",
   "pygments_lexer": "ipython3",
   "version": "3.7.11"
  }
 },
 "nbformat": 4,
 "nbformat_minor": 2
}
