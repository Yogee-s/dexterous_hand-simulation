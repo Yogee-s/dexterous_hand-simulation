{
 "cells": [
  {
   "cell_type": "markdown",
   "metadata": {},
   "source": [
    "# Training"
   ]
  },
  {
   "cell_type": "code",
   "execution_count": 1,
   "metadata": {},
   "outputs": [
    {
     "name": "stdout",
     "output_type": "stream",
     "text": [
      "^C\n",
      "Traceback (most recent call last):\n",
      "  File \"/home/xiaoyu/anaconda3/envs/dexmv/lib/python3.7/site-packages/lockfile/linklockfile.py\", line 31, in acquire\n",
      "    os.link(self.unique_name, self.lock_file)\n",
      "FileExistsError: [Errno 17] File exists: '/home/xiaoyu/Desktop/yogee/.mujoco/mujoco-py/mujoco_py/generated/xiaoyu-Precision-7550-618d9680.21353-6968051590476366090' -> '/home/xiaoyu/Desktop/yogee/.mujoco/mujoco-py/mujoco_py/generated/mujocopy-buildlock.lock'\n",
      "\n",
      "During handling of the above exception, another exception occurred:\n",
      "\n",
      "Traceback (most recent call last):\n",
      "  File \"train.py\", line 11, in <module>\n",
      "    from hand_imitation.env.environments.mug_place_object_env import MugPlaceObjectEnv\n",
      "  File \"/home/xiaoyu/Desktop/yogee/dex-affordance/hand_imitation_2/hand_imitation/__init__.py\", line 1, in <module>\n",
      "    import hand_imitation.env\n",
      "  File \"/home/xiaoyu/Desktop/yogee/dex-affordance/hand_imitation_2/hand_imitation/env/__init__.py\", line 1, in <module>\n",
      "    import hand_imitation.env.environments\n",
      "  File \"/home/xiaoyu/Desktop/yogee/dex-affordance/hand_imitation_2/hand_imitation/env/environments/__init__.py\", line 1, in <module>\n",
      "    from .base import REGISTERED_ENVS, MujocoEnv\n",
      "  File \"/home/xiaoyu/Desktop/yogee/dex-affordance/hand_imitation_2/hand_imitation/env/environments/base.py\", line 8, in <module>\n",
      "    from mujoco_py import MjRenderContextOffscreen, MjSim, load_model_from_xml\n",
      "  File \"/home/xiaoyu/Desktop/yogee/.mujoco/mujoco-py/mujoco_py/__init__.py\", line 3, in <module>\n",
      "    from mujoco_py.builder import cymj, ignore_mujoco_warnings, functions, MujocoException\n",
      "  File \"/home/xiaoyu/Desktop/yogee/.mujoco/mujoco-py/mujoco_py/builder.py\", line 504, in <module>\n",
      "    cymj = load_cython_ext(mujoco_path)\n",
      "  File \"/home/xiaoyu/Desktop/yogee/.mujoco/mujoco-py/mujoco_py/builder.py\", line 89, in load_cython_ext\n",
      "    with LockFile(lockpath):\n",
      "  File \"/home/xiaoyu/anaconda3/envs/dexmv/lib/python3.7/site-packages/lockfile/__init__.py\", line 197, in __enter__\n",
      "    self.acquire()\n",
      "  File \"/home/xiaoyu/anaconda3/envs/dexmv/lib/python3.7/site-packages/lockfile/linklockfile.py\", line 50, in acquire\n",
      "    time.sleep(timeout is not None and timeout / 10 or 0.1)\n",
      "KeyboardInterrupt\n"
     ]
    }
   ],
   "source": [
    "import os\n",
    "os.chdir( '/home/xiaoyu/Desktop/yogee/dexmv-sim/examples/')\n",
    "\n",
    "!python train.py --cfg configs/dapg-mug-example.yaml  # run this in the `example` directory"
   ]
  },
  {
   "cell_type": "markdown",
   "metadata": {},
   "source": [
    "# Visualizing training results from log"
   ]
  },
  {
   "cell_type": "code",
   "execution_count": 1,
   "metadata": {},
   "outputs": [
    {
     "name": "stdout",
     "output_type": "stream",
     "text": [
      "Creating window glfw\n",
      "2024-07-22 16:23:36.986939: I tensorflow/core/platform/cpu_feature_guard.cc:193] This TensorFlow binary is optimized with oneAPI Deep Neural Network Library (oneDNN) to use the following CPU instructions in performance-critical operations:  AVX2 FMA\n",
      "To enable them in other operations, rebuild TensorFlow with the appropriate compiler flags.\n",
      "2024-07-22 16:23:38.906682: W tensorflow/compiler/xla/stream_executor/platform/default/dso_loader.cc:64] Could not load dynamic library 'libnvinfer.so.7'; dlerror: libnvinfer.so.7: cannot open shared object file: No such file or directory; LD_LIBRARY_PATH: /usr/local/cuda-11.8/lib64:/usr/local/cuda/lib64:/usr/lib/nvidia:/opt/ros/foxy/opt/yaml_cpp_vendor/lib:/opt/ros/foxy/opt/rviz_ogre_vendor/lib:/opt/ros/foxy/lib/x86_64-linux-gnu:/opt/ros/foxy/lib:/home/xiaoyu/Desktop/yogee/.mujoco/mujoco200/bin\n",
      "2024-07-22 16:23:38.907011: W tensorflow/compiler/xla/stream_executor/platform/default/dso_loader.cc:64] Could not load dynamic library 'libnvinfer_plugin.so.7'; dlerror: libnvinfer_plugin.so.7: cannot open shared object file: No such file or directory; LD_LIBRARY_PATH: /usr/local/cuda-11.8/lib64:/usr/local/cuda/lib64:/usr/lib/nvidia:/opt/ros/foxy/opt/yaml_cpp_vendor/lib:/opt/ros/foxy/opt/rviz_ogre_vendor/lib:/opt/ros/foxy/lib/x86_64-linux-gnu:/opt/ros/foxy/lib:/home/xiaoyu/Desktop/yogee/.mujoco/mujoco200/bin\n",
      "2024-07-22 16:23:38.907034: W tensorflow/compiler/tf2tensorrt/utils/py_utils.cc:38] TF-TRT Warning: Cannot dlopen some TensorRT libraries. If you would like to use Nvidia GPU with TensorRT, please make sure the missing libraries mentioned above are installed properly.\n",
      "total reward -6.427925412097277\n",
      "total reward 391.8419935086383\n",
      "total reward 1315.3660973815531\n",
      "total reward 1470.1777620162443\n",
      "total reward 489.0325535463112\n",
      "total reward 1488.335207033655\n",
      "total reward 512.1780935314287\n",
      "total reward 518.9342251743021\n",
      "total reward 1186.177666443534\n",
      "total reward 516.2924870658179\n",
      "total reward 490.4515410671208\n",
      "total reward 2459.852320211087\n",
      "total reward 1343.7263869729602\n",
      "total reward 1230.7754246342283\n",
      "total reward 1852.9614359106831\n",
      "total reward 1515.9775692241228\n",
      "total reward 2750.6200774893623\n",
      "total reward 1425.2790326221673\n",
      "total reward 504.57401883500097\n",
      "total reward 1916.4105193564021\n",
      "total reward 487.399573181151\n",
      "total reward 493.775151578672\n",
      "total reward 487.8496784415758\n",
      "total reward 3508.504004079125\n",
      "total reward 1280.6782072504495\n",
      "total reward 1305.0904289313278\n",
      "total reward 2303.9425913667524\n",
      "total reward 1290.3545511535085\n",
      "total reward 1242.9196635812505\n",
      "total reward 1215.4208088586029\n",
      "total reward 1662.6471957820243\n",
      "total reward 487.24511728444486\n",
      "total reward 2445.990781541994\n",
      "total reward 7.859523016073336\n",
      "total reward 1433.7858667699645\n",
      "total reward 915.5564814709937\n",
      "total reward -10.130393705477758\n",
      "total reward 1615.5813092081014\n",
      "total reward 1323.0041622952049\n",
      "total reward 3828.120050417985\n",
      "total reward 1776.6903004744802\n",
      "total reward 538.0840915513885\n",
      "total reward 1912.1508687959565\n",
      "total reward 1192.1358649037948\n",
      "total reward 3051.137141182412\n",
      "total reward 1268.3476255478126\n",
      "total reward 1069.0737101114012\n",
      "free(): invalid pointer\n"
     ]
    }
   ],
   "source": [
    "import os\n",
    "os.chdir( '/home/xiaoyu/Desktop/yogee/dexmv-sim/examples/')\n",
    "\n",
    "!python3 visualize_policy.py --env_name='iterations/best_policy' --object_name=mug\n",
    "# !python3 visualize_policy.py --env_name='iterations/best_policy' --object_name=tomato_soup_can\n",
    "# !python3 visualize_policy.py --env_name='iterations/best_policy' --object_name=mustard_bottle"
   ]
  },
  {
   "cell_type": "code",
   "execution_count": 4,
   "metadata": {},
   "outputs": [
    {
     "name": "stdout",
     "output_type": "stream",
     "text": [
      "Creating window glfw\n",
      "2024-07-18 09:00:30.058824: I tensorflow/core/platform/cpu_feature_guard.cc:193] This TensorFlow binary is optimized with oneAPI Deep Neural Network Library (oneDNN) to use the following CPU instructions in performance-critical operations:  AVX2 FMA\n",
      "To enable them in other operations, rebuild TensorFlow with the appropriate compiler flags.\n",
      "2024-07-18 09:00:32.024488: W tensorflow/compiler/xla/stream_executor/platform/default/dso_loader.cc:64] Could not load dynamic library 'libnvinfer.so.7'; dlerror: libnvinfer.so.7: cannot open shared object file: No such file or directory; LD_LIBRARY_PATH: /usr/local/cuda-11.8/lib64:/usr/local/cuda/lib64:/usr/lib/nvidia:/opt/ros/foxy/opt/yaml_cpp_vendor/lib:/opt/ros/foxy/opt/rviz_ogre_vendor/lib:/opt/ros/foxy/lib/x86_64-linux-gnu:/opt/ros/foxy/lib:/home/xiaoyu/Desktop/yogee/.mujoco/mujoco200/bin\n",
      "2024-07-18 09:00:32.024829: W tensorflow/compiler/xla/stream_executor/platform/default/dso_loader.cc:64] Could not load dynamic library 'libnvinfer_plugin.so.7'; dlerror: libnvinfer_plugin.so.7: cannot open shared object file: No such file or directory; LD_LIBRARY_PATH: /usr/local/cuda-11.8/lib64:/usr/local/cuda/lib64:/usr/lib/nvidia:/opt/ros/foxy/opt/yaml_cpp_vendor/lib:/opt/ros/foxy/opt/rviz_ogre_vendor/lib:/opt/ros/foxy/lib/x86_64-linux-gnu:/opt/ros/foxy/lib:/home/xiaoyu/Desktop/yogee/.mujoco/mujoco200/bin\n",
      "2024-07-18 09:00:32.024865: W tensorflow/compiler/tf2tensorrt/utils/py_utils.cc:38] TF-TRT Warning: Cannot dlopen some TensorRT libraries. If you would like to use Nvidia GPU with TensorRT, please make sure the missing libraries mentioned above are installed properly.\n",
      "total reward -989.4799346352646\n",
      "total reward -988.057867282734\n",
      "total reward -994.5051968587842\n",
      "total reward -994.2724844160382\n",
      "free(): invalid pointer\n"
     ]
    }
   ],
   "source": [
    "import os\n",
    "os.chdir( '/home/xiaoyu/Desktop/yogee/dexmv-sim/examples/')\n",
    "\n",
    "# !python3 visualize_policy.py --env_name='iterations/policy_50' --object_name=mustard_bottle\n",
    "!python3 visualize_policy.py --env_name='iterations/policy_300' --object_name=mug"
   ]
  },
  {
   "cell_type": "markdown",
   "metadata": {},
   "source": [
    "# Visualizing policies"
   ]
  },
  {
   "cell_type": "code",
   "execution_count": 8,
   "metadata": {},
   "outputs": [
    {
     "name": "stdout",
     "output_type": "stream",
     "text": [
      "Creating window glfw\n",
      "2024-07-22 09:48:29.546292: I tensorflow/core/platform/cpu_feature_guard.cc:193] This TensorFlow binary is optimized with oneAPI Deep Neural Network Library (oneDNN) to use the following CPU instructions in performance-critical operations:  AVX2 FMA\n",
      "To enable them in other operations, rebuild TensorFlow with the appropriate compiler flags.\n",
      "2024-07-22 09:48:30.213216: W tensorflow/compiler/xla/stream_executor/platform/default/dso_loader.cc:64] Could not load dynamic library 'libnvinfer.so.7'; dlerror: libnvinfer.so.7: cannot open shared object file: No such file or directory; LD_LIBRARY_PATH: /usr/local/cuda-11.8/lib64:/usr/local/cuda/lib64:/usr/lib/nvidia:/opt/ros/foxy/opt/yaml_cpp_vendor/lib:/opt/ros/foxy/opt/rviz_ogre_vendor/lib:/opt/ros/foxy/lib/x86_64-linux-gnu:/opt/ros/foxy/lib:/home/xiaoyu/Desktop/yogee/.mujoco/mujoco200/bin\n",
      "2024-07-22 09:48:30.213282: W tensorflow/compiler/xla/stream_executor/platform/default/dso_loader.cc:64] Could not load dynamic library 'libnvinfer_plugin.so.7'; dlerror: libnvinfer_plugin.so.7: cannot open shared object file: No such file or directory; LD_LIBRARY_PATH: /usr/local/cuda-11.8/lib64:/usr/local/cuda/lib64:/usr/lib/nvidia:/opt/ros/foxy/opt/yaml_cpp_vendor/lib:/opt/ros/foxy/opt/rviz_ogre_vendor/lib:/opt/ros/foxy/lib/x86_64-linux-gnu:/opt/ros/foxy/lib:/home/xiaoyu/Desktop/yogee/.mujoco/mujoco200/bin\n",
      "2024-07-22 09:48:30.213289: W tensorflow/compiler/tf2tensorrt/utils/py_utils.cc:38] TF-TRT Warning: Cannot dlopen some TensorRT libraries. If you would like to use Nvidia GPU with TensorRT, please make sure the missing libraries mentioned above are installed properly.\n",
      "total reward 29.97557714392742\n",
      "free(): invalid pointer\n"
     ]
    }
   ],
   "source": [
    "import os\n",
    "os.chdir( '/home/xiaoyu/Desktop/yogee/dexmv-sim/examples/')\n",
    "\n",
    "!python3 visualize_policy.py --env_name=trained_models_mug/trained_model_mug_version1_continue2/best_policy --object_name=mug"
   ]
  },
  {
   "cell_type": "code",
   "execution_count": 6,
   "metadata": {},
   "outputs": [
    {
     "name": "stdout",
     "output_type": "stream",
     "text": [
      "Creating window glfw\n",
      "2024-07-22 09:45:23.706217: I tensorflow/core/platform/cpu_feature_guard.cc:193] This TensorFlow binary is optimized with oneAPI Deep Neural Network Library (oneDNN) to use the following CPU instructions in performance-critical operations:  AVX2 FMA\n",
      "To enable them in other operations, rebuild TensorFlow with the appropriate compiler flags.\n",
      "2024-07-22 09:45:24.387234: W tensorflow/compiler/xla/stream_executor/platform/default/dso_loader.cc:64] Could not load dynamic library 'libnvinfer.so.7'; dlerror: libnvinfer.so.7: cannot open shared object file: No such file or directory; LD_LIBRARY_PATH: /usr/local/cuda-11.8/lib64:/usr/local/cuda/lib64:/usr/lib/nvidia:/opt/ros/foxy/opt/yaml_cpp_vendor/lib:/opt/ros/foxy/opt/rviz_ogre_vendor/lib:/opt/ros/foxy/lib/x86_64-linux-gnu:/opt/ros/foxy/lib:/home/xiaoyu/Desktop/yogee/.mujoco/mujoco200/bin\n",
      "2024-07-22 09:45:24.387320: W tensorflow/compiler/xla/stream_executor/platform/default/dso_loader.cc:64] Could not load dynamic library 'libnvinfer_plugin.so.7'; dlerror: libnvinfer_plugin.so.7: cannot open shared object file: No such file or directory; LD_LIBRARY_PATH: /usr/local/cuda-11.8/lib64:/usr/local/cuda/lib64:/usr/lib/nvidia:/opt/ros/foxy/opt/yaml_cpp_vendor/lib:/opt/ros/foxy/opt/rviz_ogre_vendor/lib:/opt/ros/foxy/lib/x86_64-linux-gnu:/opt/ros/foxy/lib:/home/xiaoyu/Desktop/yogee/.mujoco/mujoco200/bin\n",
      "2024-07-22 09:45:24.387327: W tensorflow/compiler/tf2tensorrt/utils/py_utils.cc:38] TF-TRT Warning: Cannot dlopen some TensorRT libraries. If you would like to use Nvidia GPU with TensorRT, please make sure the missing libraries mentioned above are installed properly.\n",
      "total reward 42.39724058023867\n",
      "total reward 8.647041454708038\n",
      "total reward 42.45856089088048\n",
      "total reward 24.963983808437472\n",
      "free(): invalid pointer\n"
     ]
    }
   ],
   "source": [
    "import os\n",
    "os.chdir( '/home/xiaoyu/Desktop/yogee/dexmv-sim/examples/')\n",
    "\n",
    "!python3 visualize_policy.py --env_name=trained_models_mug/trained_model_mug_version2/best_policy --object_name=mug"
   ]
  },
  {
   "cell_type": "markdown",
   "metadata": {},
   "source": [
    "# Visualize policy for mustard bottle"
   ]
  },
  {
   "cell_type": "code",
   "execution_count": 14,
   "metadata": {},
   "outputs": [
    {
     "name": "stdout",
     "output_type": "stream",
     "text": [
      "Creating window glfw\n",
      "2024-07-22 11:25:23.497769: I tensorflow/core/platform/cpu_feature_guard.cc:193] This TensorFlow binary is optimized with oneAPI Deep Neural Network Library (oneDNN) to use the following CPU instructions in performance-critical operations:  AVX2 FMA\n",
      "To enable them in other operations, rebuild TensorFlow with the appropriate compiler flags.\n",
      "2024-07-22 11:25:25.233667: W tensorflow/compiler/xla/stream_executor/platform/default/dso_loader.cc:64] Could not load dynamic library 'libnvinfer.so.7'; dlerror: libnvinfer.so.7: cannot open shared object file: No such file or directory; LD_LIBRARY_PATH: /usr/local/cuda-11.8/lib64:/usr/local/cuda/lib64:/usr/lib/nvidia:/opt/ros/foxy/opt/yaml_cpp_vendor/lib:/opt/ros/foxy/opt/rviz_ogre_vendor/lib:/opt/ros/foxy/lib/x86_64-linux-gnu:/opt/ros/foxy/lib:/home/xiaoyu/Desktop/yogee/.mujoco/mujoco200/bin\n",
      "2024-07-22 11:25:25.234256: W tensorflow/compiler/xla/stream_executor/platform/default/dso_loader.cc:64] Could not load dynamic library 'libnvinfer_plugin.so.7'; dlerror: libnvinfer_plugin.so.7: cannot open shared object file: No such file or directory; LD_LIBRARY_PATH: /usr/local/cuda-11.8/lib64:/usr/local/cuda/lib64:/usr/lib/nvidia:/opt/ros/foxy/opt/yaml_cpp_vendor/lib:/opt/ros/foxy/opt/rviz_ogre_vendor/lib:/opt/ros/foxy/lib/x86_64-linux-gnu:/opt/ros/foxy/lib:/home/xiaoyu/Desktop/yogee/.mujoco/mujoco200/bin\n",
      "2024-07-22 11:25:25.234300: W tensorflow/compiler/tf2tensorrt/utils/py_utils.cc:38] TF-TRT Warning: Cannot dlopen some TensorRT libraries. If you would like to use Nvidia GPU with TensorRT, please make sure the missing libraries mentioned above are installed properly.\n",
      "total reward -76.2108556044105\n",
      "total reward -75.08534628798354\n",
      "total reward -67.91398238848815\n",
      "total reward -78.09315922201968\n",
      "total reward -76.09135368008828\n",
      "free(): invalid pointer\n"
     ]
    }
   ],
   "source": [
    "import os\n",
    "os.chdir( '/home/xiaoyu/Desktop/yogee/dexmv-sim/examples/')\n",
    "\n",
    "!python3 visualize_policy.py --env_name=trained_models_mustard_bottle/trained_model_mustard_version1/best_policy --object_name=mustard_bottle"
   ]
  },
  {
   "cell_type": "code",
   "execution_count": 13,
   "metadata": {},
   "outputs": [
    {
     "name": "stdout",
     "output_type": "stream",
     "text": [
      "Creating window glfw\n",
      "2024-07-22 11:25:00.818432: I tensorflow/core/platform/cpu_feature_guard.cc:193] This TensorFlow binary is optimized with oneAPI Deep Neural Network Library (oneDNN) to use the following CPU instructions in performance-critical operations:  AVX2 FMA\n",
      "To enable them in other operations, rebuild TensorFlow with the appropriate compiler flags.\n",
      "2024-07-22 11:25:02.373020: W tensorflow/compiler/xla/stream_executor/platform/default/dso_loader.cc:64] Could not load dynamic library 'libnvinfer.so.7'; dlerror: libnvinfer.so.7: cannot open shared object file: No such file or directory; LD_LIBRARY_PATH: /usr/local/cuda-11.8/lib64:/usr/local/cuda/lib64:/usr/lib/nvidia:/opt/ros/foxy/opt/yaml_cpp_vendor/lib:/opt/ros/foxy/opt/rviz_ogre_vendor/lib:/opt/ros/foxy/lib/x86_64-linux-gnu:/opt/ros/foxy/lib:/home/xiaoyu/Desktop/yogee/.mujoco/mujoco200/bin\n",
      "2024-07-22 11:25:02.373548: W tensorflow/compiler/xla/stream_executor/platform/default/dso_loader.cc:64] Could not load dynamic library 'libnvinfer_plugin.so.7'; dlerror: libnvinfer_plugin.so.7: cannot open shared object file: No such file or directory; LD_LIBRARY_PATH: /usr/local/cuda-11.8/lib64:/usr/local/cuda/lib64:/usr/lib/nvidia:/opt/ros/foxy/opt/yaml_cpp_vendor/lib:/opt/ros/foxy/opt/rviz_ogre_vendor/lib:/opt/ros/foxy/lib/x86_64-linux-gnu:/opt/ros/foxy/lib:/home/xiaoyu/Desktop/yogee/.mujoco/mujoco200/bin\n",
      "2024-07-22 11:25:02.373590: W tensorflow/compiler/tf2tensorrt/utils/py_utils.cc:38] TF-TRT Warning: Cannot dlopen some TensorRT libraries. If you would like to use Nvidia GPU with TensorRT, please make sure the missing libraries mentioned above are installed properly.\n",
      "total reward -37.061034763008024\n",
      "total reward -45.15616732514307\n",
      "free(): invalid pointer\n"
     ]
    }
   ],
   "source": [
    "import os\n",
    "os.chdir( '/home/xiaoyu/Desktop/yogee/dexmv-sim/examples/')\n",
    "\n",
    "!python3 visualize_policy.py --env_name=trained_models_mustard_bottle/trained_model_mustard_version1_continue/best_policy --object_name=mustard_bottle"
   ]
  },
  {
   "cell_type": "markdown",
   "metadata": {},
   "source": [
    "# Test model on different objects"
   ]
  },
  {
   "cell_type": "code",
   "execution_count": 3,
   "metadata": {},
   "outputs": [
    {
     "name": "stdout",
     "output_type": "stream",
     "text": [
      "Creating window glfw\n",
      "2024-07-11 10:36:55.568396: I tensorflow/core/platform/cpu_feature_guard.cc:193] This TensorFlow binary is optimized with oneAPI Deep Neural Network Library (oneDNN) to use the following CPU instructions in performance-critical operations:  AVX2 FMA\n",
      "To enable them in other operations, rebuild TensorFlow with the appropriate compiler flags.\n",
      "2024-07-11 10:36:56.835611: W tensorflow/compiler/xla/stream_executor/platform/default/dso_loader.cc:64] Could not load dynamic library 'libnvinfer.so.7'; dlerror: libnvinfer.so.7: cannot open shared object file: No such file or directory; LD_LIBRARY_PATH: /usr/local/cuda-11.8/lib64:/usr/local/cuda/lib64:/usr/lib/nvidia:/opt/ros/foxy/opt/yaml_cpp_vendor/lib:/opt/ros/foxy/opt/rviz_ogre_vendor/lib:/opt/ros/foxy/lib/x86_64-linux-gnu:/opt/ros/foxy/lib:/home/xiaoyu/Desktop/yogee/.mujoco/mujoco200/bin\n",
      "2024-07-11 10:36:56.835785: W tensorflow/compiler/xla/stream_executor/platform/default/dso_loader.cc:64] Could not load dynamic library 'libnvinfer_plugin.so.7'; dlerror: libnvinfer_plugin.so.7: cannot open shared object file: No such file or directory; LD_LIBRARY_PATH: /usr/local/cuda-11.8/lib64:/usr/local/cuda/lib64:/usr/lib/nvidia:/opt/ros/foxy/opt/yaml_cpp_vendor/lib:/opt/ros/foxy/opt/rviz_ogre_vendor/lib:/opt/ros/foxy/lib/x86_64-linux-gnu:/opt/ros/foxy/lib:/home/xiaoyu/Desktop/yogee/.mujoco/mujoco200/bin\n",
      "2024-07-11 10:36:56.835800: W tensorflow/compiler/tf2tensorrt/utils/py_utils.cc:38] TF-TRT Warning: Cannot dlopen some TensorRT libraries. If you would like to use Nvidia GPU with TensorRT, please make sure the missing libraries mentioned above are installed properly.\n",
      "total reward -0.534798287787819\n",
      "total reward -1.3794128839973454\n",
      "total reward 7.383772460025444\n",
      "total reward 2.8417619139950148\n",
      "total reward -1.25538514355124\n",
      "total reward -2.0665411407397913\n",
      "total reward -0.6392648203168849\n",
      "total reward -1.364802388951035\n",
      "total reward -0.5320071648165597\n",
      "total reward -0.010093819503731258\n",
      "total reward 7.355634004002636\n",
      "total reward 0.8871072555204502\n",
      "total reward -0.7398484925045177\n",
      "total reward -0.17559392702720172\n",
      "total reward 7.339098392282177\n",
      "total reward 7.403300903358678\n",
      "total reward 7.857897621389213\n",
      "total reward 7.6415361820825005\n",
      "total reward 7.354066241003185\n",
      "total reward -0.35830123142197623\n",
      "total reward -0.4249045961965476\n",
      "total reward 2.9972872528745294\n",
      "total reward 7.909999458063278\n",
      "total reward 7.964722104876043\n",
      "total reward -2.11282695147872\n",
      "total reward 7.822107968597013\n",
      "total reward -0.1536485343987674\n",
      "total reward -0.9195881807432713\n",
      "free(): invalid pointer\n"
     ]
    }
   ],
   "source": [
    "import os\n",
    "os.chdir( '/home/xiaoyu/Desktop/yogee/dexmv-sim/examples/')\n",
    "\n",
    "# !python3 visualize_policy.py --env_name=test2_500 --object_name=mug\n",
    "\n",
    "# !python3 visualize_policy.py --env_name=test2_500 --object_name=tomato_soup_can\n",
    "!python3 visualize_policy.py --env_name=test2_500 --object_name=mustard_bottle\n",
    "# !python3 visualize_policy.py --env_name=test2_500 --object_name=potted_meat_can\n",
    "# !python3 visualize_policy.py --env_name=test2_500 --object_name=banana\n",
    "# !python3 visualize_policy.py --env_name=test2_500 --object_name=mug\n",
    "# !python3 visualize_policy.py --env_name=test2_500 --object_name=large_clamp\n",
    "# !python3 visualize_policy.py --env_name=test2_500 --object_name=foam_brick"
   ]
  },
  {
   "cell_type": "markdown",
   "metadata": {},
   "source": [
    "# Visualize policy with objects randomizing every time (work in progress)"
   ]
  },
  {
   "cell_type": "code",
   "execution_count": 13,
   "metadata": {},
   "outputs": [
    {
     "name": "stdout",
     "output_type": "stream",
     "text": [
      "2024-07-03 12:13:14.997785: I tensorflow/core/platform/cpu_feature_guard.cc:193] This TensorFlow binary is optimized with oneAPI Deep Neural Network Library (oneDNN) to use the following CPU instructions in performance-critical operations:  AVX2 FMA\n",
      "To enable them in other operations, rebuild TensorFlow with the appropriate compiler flags.\n",
      "2024-07-03 12:13:15.687148: W tensorflow/compiler/xla/stream_executor/platform/default/dso_loader.cc:64] Could not load dynamic library 'libnvinfer.so.7'; dlerror: libnvinfer.so.7: cannot open shared object file: No such file or directory; LD_LIBRARY_PATH: /home/xiaoyu/Desktop/yogee/.mujoco/mujoco200/bin:/usr/lib/nvidia:/home/xiaoyu/anaconda3/envs/dexmv/lib/python3.8/site-packages/tensorrt_libs:/home/xiaoyu/anaconda3/envs/dexmv/lib/python3.8/site-packages/tensorrt\n",
      "2024-07-03 12:13:15.687274: W tensorflow/compiler/xla/stream_executor/platform/default/dso_loader.cc:64] Could not load dynamic library 'libnvinfer_plugin.so.7'; dlerror: libnvinfer_plugin.so.7: cannot open shared object file: No such file or directory; LD_LIBRARY_PATH: /home/xiaoyu/Desktop/yogee/.mujoco/mujoco200/bin:/usr/lib/nvidia:/home/xiaoyu/anaconda3/envs/dexmv/lib/python3.8/site-packages/tensorrt_libs:/home/xiaoyu/anaconda3/envs/dexmv/lib/python3.8/site-packages/tensorrt\n",
      "2024-07-03 12:13:15.687282: W tensorflow/compiler/tf2tensorrt/utils/py_utils.cc:38] TF-TRT Warning: Cannot dlopen some TensorRT libraries. If you would like to use Nvidia GPU with TensorRT, please make sure the missing libraries mentioned above are installed properly.\n",
      "Creating window glfw\n",
      "Traceback (most recent call last):\n",
      "  File \"visualize_random_objects_policy.py\", line 62, in <module>\n",
      "    main()\n",
      "  File \"/home/xiaoyu/anaconda3/envs/dexmv/lib/python3.7/site-packages/click/core.py\", line 1157, in __call__\n",
      "    return self.main(*args, **kwargs)\n",
      "  File \"/home/xiaoyu/anaconda3/envs/dexmv/lib/python3.7/site-packages/click/core.py\", line 1078, in main\n",
      "    rv = self.invoke(ctx)\n",
      "  File \"/home/xiaoyu/anaconda3/envs/dexmv/lib/python3.7/site-packages/click/core.py\", line 1434, in invoke\n",
      "    return ctx.invoke(self.callback, **ctx.params)\n",
      "  File \"/home/xiaoyu/anaconda3/envs/dexmv/lib/python3.7/site-packages/click/core.py\", line 783, in invoke\n",
      "    return __callback(*args, **kwargs)\n",
      "  File \"visualize_random_objects_policy.py\", line 42, in main\n",
      "    e.set_object(object_name)\n",
      "AttributeError: 'YCBRelocate' object has no attribute 'set_object'\n"
     ]
    }
   ],
   "source": [
    "import os\n",
    "os.chdir( '/home/xiaoyu/Desktop/yogee/dexmv-sim/examples/')\n",
    "\n",
    "!python3 visualize_random_objects_policy.py --env_name=test_800\n"
   ]
  },
  {
   "cell_type": "markdown",
   "metadata": {},
   "source": [
    "# Simulation in mujoco"
   ]
  },
  {
   "cell_type": "code",
   "execution_count": 19,
   "metadata": {},
   "outputs": [
    {
     "name": "stdout",
     "output_type": "stream",
     "text": [
      "MuJoCo Pro version 2.00\n"
     ]
    }
   ],
   "source": [
    "import os\n",
    "os.chdir( '/home/xiaoyu/Desktop/yogee/.mujoco/mujoco200/bin/')\n",
    "!./simulate ~/Desktop/yogee/dexmv-sim/hand_imitation/env/models/assets/inspire/urdf/handright9253.xml \n"
   ]
  },
  {
   "cell_type": "markdown",
   "metadata": {},
   "source": [
    "# To open tensorboard"
   ]
  },
  {
   "cell_type": "code",
   "execution_count": 17,
   "metadata": {},
   "outputs": [
    {
     "name": "stdout",
     "output_type": "stream",
     "text": [
      "2024-06-28 18:12:55.260412: I tensorflow/core/platform/cpu_feature_guard.cc:193] This TensorFlow binary is optimized with oneAPI Deep Neural Network Library (oneDNN) to use the following CPU instructions in performance-critical operations:  AVX2 FMA\n",
      "To enable them in other operations, rebuild TensorFlow with the appropriate compiler flags.\n",
      "2024-06-28 18:12:55.907962: W tensorflow/compiler/xla/stream_executor/platform/default/dso_loader.cc:64] Could not load dynamic library 'libnvinfer.so.7'; dlerror: libnvinfer.so.7: cannot open shared object file: No such file or directory; LD_LIBRARY_PATH: /home/xiaoyu/Desktop/yogee/.mujoco/mujoco200/bin:/usr/lib/nvidia:/home/xiaoyu/anaconda3/envs/dexmv/lib/python3.8/site-packages/tensorrt_libs:/home/xiaoyu/anaconda3/envs/dexmv/lib/python3.8/site-packages/tensorrt\n",
      "2024-06-28 18:12:55.908030: W tensorflow/compiler/xla/stream_executor/platform/default/dso_loader.cc:64] Could not load dynamic library 'libnvinfer_plugin.so.7'; dlerror: libnvinfer_plugin.so.7: cannot open shared object file: No such file or directory; LD_LIBRARY_PATH: /home/xiaoyu/Desktop/yogee/.mujoco/mujoco200/bin:/usr/lib/nvidia:/home/xiaoyu/anaconda3/envs/dexmv/lib/python3.8/site-packages/tensorrt_libs:/home/xiaoyu/anaconda3/envs/dexmv/lib/python3.8/site-packages/tensorrt\n",
      "2024-06-28 18:12:55.908038: W tensorflow/compiler/tf2tensorrt/utils/py_utils.cc:38] TF-TRT Warning: Cannot dlopen some TensorRT libraries. If you would like to use Nvidia GPU with TensorRT, please make sure the missing libraries mentioned above are installed properly.\n",
      "2024-06-28 18:12:58.134930: I tensorflow/compiler/xla/stream_executor/cuda/cuda_gpu_executor.cc:981] successful NUMA node read from SysFS had negative value (-1), but there must be at least one NUMA node, so returning NUMA node zero\n",
      "2024-06-28 18:12:58.198487: W tensorflow/compiler/xla/stream_executor/platform/default/dso_loader.cc:64] Could not load dynamic library 'libcudnn.so.8'; dlerror: libcudnn.so.8: cannot open shared object file: No such file or directory; LD_LIBRARY_PATH: /home/xiaoyu/Desktop/yogee/.mujoco/mujoco200/bin:/usr/lib/nvidia:/home/xiaoyu/anaconda3/envs/dexmv/lib/python3.8/site-packages/tensorrt_libs:/home/xiaoyu/anaconda3/envs/dexmv/lib/python3.8/site-packages/tensorrt\n",
      "2024-06-28 18:12:58.198518: W tensorflow/core/common_runtime/gpu/gpu_device.cc:1934] Cannot dlopen some GPU libraries. Please make sure the missing libraries mentioned above are installed properly if you would like to use GPU. Follow the guide at https://www.tensorflow.org/install/gpu for how to download and setup the required libraries for your platform.\n",
      "Skipping registering GPU devices...\n",
      "\n",
      "NOTE: Using experimental fast data loading logic. To disable, pass\n",
      "    \"--load_fast=false\" and report issues on GitHub. More details:\n",
      "    https://github.com/tensorflow/tensorboard/issues/4784\n",
      "\n",
      "Serving TensorBoard on localhost; to expose to the network, use a proxy or pass --bind_all\n",
      "TensorBoard 2.11.2 at http://localhost:6006/ (Press CTRL+C to quit)\n",
      "^C\n"
     ]
    }
   ],
   "source": [
    "import os\n",
    "\n",
    "os.chdir('/home/xiaoyu/Desktop/yogee/dexmv-sim/examples/training_log/dapg_relocate-mug-0.8_relocate-mug_0.1_100_trpo_seed200/tensorboard_logs')\n",
    "!tensorboard --logdir=.\n"
   ]
  }
 ],
 "metadata": {
  "kernelspec": {
   "display_name": "Python 3 (ipykernel)",
   "language": "python",
   "name": "python3"
  },
  "language_info": {
   "codemirror_mode": {
    "name": "ipython",
    "version": 3
   },
   "file_extension": ".py",
   "mimetype": "text/x-python",
   "name": "python",
   "nbconvert_exporter": "python",
   "pygments_lexer": "ipython3",
   "version": "3.7.11"
  }
 },
 "nbformat": 4,
 "nbformat_minor": 2
}
