{
 "cells": [
  {
   "cell_type": "markdown",
   "metadata": {},
   "source": [
    "# Training"
   ]
  },
  {
   "cell_type": "code",
   "execution_count": 1,
   "metadata": {},
   "outputs": [
    {
     "name": "stdout",
     "output_type": "stream",
     "text": [
      "^C\n",
      "Traceback (most recent call last):\n",
      "  File \"/home/xiaoyu/anaconda3/envs/dexmv/lib/python3.7/site-packages/lockfile/linklockfile.py\", line 31, in acquire\n",
      "    os.link(self.unique_name, self.lock_file)\n",
      "FileExistsError: [Errno 17] File exists: '/home/xiaoyu/Desktop/yogee/.mujoco/mujoco-py/mujoco_py/generated/xiaoyu-Precision-7550-618d9680.21353-6968051590476366090' -> '/home/xiaoyu/Desktop/yogee/.mujoco/mujoco-py/mujoco_py/generated/mujocopy-buildlock.lock'\n",
      "\n",
      "During handling of the above exception, another exception occurred:\n",
      "\n",
      "Traceback (most recent call last):\n",
      "  File \"train.py\", line 11, in <module>\n",
      "    from hand_imitation.env.environments.mug_place_object_env import MugPlaceObjectEnv\n",
      "  File \"/home/xiaoyu/Desktop/yogee/dex-affordance/hand_imitation_2/hand_imitation/__init__.py\", line 1, in <module>\n",
      "    import hand_imitation.env\n",
      "  File \"/home/xiaoyu/Desktop/yogee/dex-affordance/hand_imitation_2/hand_imitation/env/__init__.py\", line 1, in <module>\n",
      "    import hand_imitation.env.environments\n",
      "  File \"/home/xiaoyu/Desktop/yogee/dex-affordance/hand_imitation_2/hand_imitation/env/environments/__init__.py\", line 1, in <module>\n",
      "    from .base import REGISTERED_ENVS, MujocoEnv\n",
      "  File \"/home/xiaoyu/Desktop/yogee/dex-affordance/hand_imitation_2/hand_imitation/env/environments/base.py\", line 8, in <module>\n",
      "    from mujoco_py import MjRenderContextOffscreen, MjSim, load_model_from_xml\n",
      "  File \"/home/xiaoyu/Desktop/yogee/.mujoco/mujoco-py/mujoco_py/__init__.py\", line 3, in <module>\n",
      "    from mujoco_py.builder import cymj, ignore_mujoco_warnings, functions, MujocoException\n",
      "  File \"/home/xiaoyu/Desktop/yogee/.mujoco/mujoco-py/mujoco_py/builder.py\", line 504, in <module>\n",
      "    cymj = load_cython_ext(mujoco_path)\n",
      "  File \"/home/xiaoyu/Desktop/yogee/.mujoco/mujoco-py/mujoco_py/builder.py\", line 89, in load_cython_ext\n",
      "    with LockFile(lockpath):\n",
      "  File \"/home/xiaoyu/anaconda3/envs/dexmv/lib/python3.7/site-packages/lockfile/__init__.py\", line 197, in __enter__\n",
      "    self.acquire()\n",
      "  File \"/home/xiaoyu/anaconda3/envs/dexmv/lib/python3.7/site-packages/lockfile/linklockfile.py\", line 50, in acquire\n",
      "    time.sleep(timeout is not None and timeout / 10 or 0.1)\n",
      "KeyboardInterrupt\n"
     ]
    }
   ],
   "source": [
    "import os\n",
    "os.chdir( '/home/xiaoyu/Desktop/yogee/dexmv-sim/examples/')\n",
    "\n",
    "!python train.py --cfg configs/dapg-mug-example.yaml  # run this in the `example` directory"
   ]
  },
  {
   "cell_type": "markdown",
   "metadata": {},
   "source": [
    "# Visualizing training results from log"
   ]
  },
  {
   "cell_type": "code",
   "execution_count": 1,
   "metadata": {},
   "outputs": [
    {
     "name": "stdout",
     "output_type": "stream",
     "text": [
      "Creating window glfw\n",
      "2024-07-30 11:24:18.104419: I tensorflow/core/platform/cpu_feature_guard.cc:193] This TensorFlow binary is optimized with oneAPI Deep Neural Network Library (oneDNN) to use the following CPU instructions in performance-critical operations:  AVX2 FMA\n",
      "To enable them in other operations, rebuild TensorFlow with the appropriate compiler flags.\n",
      "2024-07-30 11:24:18.815285: W tensorflow/compiler/xla/stream_executor/platform/default/dso_loader.cc:64] Could not load dynamic library 'libnvinfer.so.7'; dlerror: libnvinfer.so.7: cannot open shared object file: No such file or directory; LD_LIBRARY_PATH: /usr/local/cuda-11.8/lib64:/usr/local/cuda/lib64:/usr/lib/nvidia:/opt/ros/foxy/opt/yaml_cpp_vendor/lib:/opt/ros/foxy/opt/rviz_ogre_vendor/lib:/opt/ros/foxy/lib/x86_64-linux-gnu:/opt/ros/foxy/lib:/home/xiaoyu/Desktop/yogee/.mujoco/mujoco200/bin\n",
      "2024-07-30 11:24:18.815359: W tensorflow/compiler/xla/stream_executor/platform/default/dso_loader.cc:64] Could not load dynamic library 'libnvinfer_plugin.so.7'; dlerror: libnvinfer_plugin.so.7: cannot open shared object file: No such file or directory; LD_LIBRARY_PATH: /usr/local/cuda-11.8/lib64:/usr/local/cuda/lib64:/usr/lib/nvidia:/opt/ros/foxy/opt/yaml_cpp_vendor/lib:/opt/ros/foxy/opt/rviz_ogre_vendor/lib:/opt/ros/foxy/lib/x86_64-linux-gnu:/opt/ros/foxy/lib:/home/xiaoyu/Desktop/yogee/.mujoco/mujoco200/bin\n",
      "2024-07-30 11:24:18.815367: W tensorflow/compiler/tf2tensorrt/utils/py_utils.cc:38] TF-TRT Warning: Cannot dlopen some TensorRT libraries. If you would like to use Nvidia GPU with TensorRT, please make sure the missing libraries mentioned above are installed properly.\n",
      "total reward 2077.38362853283\n",
      "total reward 3764.7097678181017\n",
      "total reward 4072.08961776033\n",
      "total reward 2245.461941385065\n",
      "total reward 2489.675752101209\n",
      "total reward 2220.3695875706167\n",
      "total reward 2828.5237410798213\n",
      "total reward 1894.4976535064457\n",
      "total reward 2264.9364728294986\n",
      "total reward 2056.2088145291677\n",
      "total reward 3785.8649270464502\n",
      "total reward 1899.3311566854138\n",
      "free(): invalid pointer\n"
     ]
    }
   ],
   "source": [
    "import os\n",
    "os.chdir( '/home/xiaoyu/Desktop/yogee/dexmv-sim/examples/')\n",
    "\n",
    "!python3 visualize_policy.py --env_name='dapg_relocate-mug-0.8_relocate-mug_0.8_100_trpo_seed200/iterations/best_policy' --object_name=mug\n",
    "# !python3 visualize_policy.py --env_name='iterations/best_policy' --object_name=tomato_soup_can\n",
    "# !python3 visualize_policy.py --env_name='iterations/best_policy' --object_name=mustard_bottle"
   ]
  },
  {
   "cell_type": "code",
   "execution_count": 4,
   "metadata": {},
   "outputs": [
    {
     "name": "stdout",
     "output_type": "stream",
     "text": [
      "Creating window glfw\n",
      "2024-07-18 09:00:30.058824: I tensorflow/core/platform/cpu_feature_guard.cc:193] This TensorFlow binary is optimized with oneAPI Deep Neural Network Library (oneDNN) to use the following CPU instructions in performance-critical operations:  AVX2 FMA\n",
      "To enable them in other operations, rebuild TensorFlow with the appropriate compiler flags.\n",
      "2024-07-18 09:00:32.024488: W tensorflow/compiler/xla/stream_executor/platform/default/dso_loader.cc:64] Could not load dynamic library 'libnvinfer.so.7'; dlerror: libnvinfer.so.7: cannot open shared object file: No such file or directory; LD_LIBRARY_PATH: /usr/local/cuda-11.8/lib64:/usr/local/cuda/lib64:/usr/lib/nvidia:/opt/ros/foxy/opt/yaml_cpp_vendor/lib:/opt/ros/foxy/opt/rviz_ogre_vendor/lib:/opt/ros/foxy/lib/x86_64-linux-gnu:/opt/ros/foxy/lib:/home/xiaoyu/Desktop/yogee/.mujoco/mujoco200/bin\n",
      "2024-07-18 09:00:32.024829: W tensorflow/compiler/xla/stream_executor/platform/default/dso_loader.cc:64] Could not load dynamic library 'libnvinfer_plugin.so.7'; dlerror: libnvinfer_plugin.so.7: cannot open shared object file: No such file or directory; LD_LIBRARY_PATH: /usr/local/cuda-11.8/lib64:/usr/local/cuda/lib64:/usr/lib/nvidia:/opt/ros/foxy/opt/yaml_cpp_vendor/lib:/opt/ros/foxy/opt/rviz_ogre_vendor/lib:/opt/ros/foxy/lib/x86_64-linux-gnu:/opt/ros/foxy/lib:/home/xiaoyu/Desktop/yogee/.mujoco/mujoco200/bin\n",
      "2024-07-18 09:00:32.024865: W tensorflow/compiler/tf2tensorrt/utils/py_utils.cc:38] TF-TRT Warning: Cannot dlopen some TensorRT libraries. If you would like to use Nvidia GPU with TensorRT, please make sure the missing libraries mentioned above are installed properly.\n",
      "total reward -989.4799346352646\n",
      "total reward -988.057867282734\n",
      "total reward -994.5051968587842\n",
      "total reward -994.2724844160382\n",
      "free(): invalid pointer\n"
     ]
    }
   ],
   "source": [
    "import os\n",
    "os.chdir( '/home/xiaoyu/Desktop/yogee/dexmv-sim/examples/')\n",
    "\n",
    "# !python3 visualize_policy.py --env_name='iterations/policy_50' --object_name=mustard_bottle\n",
    "!python3 visualize_policy.py --env_name='iterations/policy_300' --object_name=mug"
   ]
  },
  {
   "cell_type": "markdown",
   "metadata": {},
   "source": [
    "# Visualizing policies"
   ]
  },
  {
   "cell_type": "code",
   "execution_count": 2,
   "metadata": {},
   "outputs": [
    {
     "name": "stdout",
     "output_type": "stream",
     "text": [
      "Creating window glfw\n",
      "2024-07-30 11:36:34.134997: I tensorflow/core/platform/cpu_feature_guard.cc:193] This TensorFlow binary is optimized with oneAPI Deep Neural Network Library (oneDNN) to use the following CPU instructions in performance-critical operations:  AVX2 FMA\n",
      "To enable them in other operations, rebuild TensorFlow with the appropriate compiler flags.\n",
      "2024-07-30 11:36:34.801247: W tensorflow/compiler/xla/stream_executor/platform/default/dso_loader.cc:64] Could not load dynamic library 'libnvinfer.so.7'; dlerror: libnvinfer.so.7: cannot open shared object file: No such file or directory; LD_LIBRARY_PATH: /usr/local/cuda-11.8/lib64:/usr/local/cuda/lib64:/usr/lib/nvidia:/opt/ros/foxy/opt/yaml_cpp_vendor/lib:/opt/ros/foxy/opt/rviz_ogre_vendor/lib:/opt/ros/foxy/lib/x86_64-linux-gnu:/opt/ros/foxy/lib:/home/xiaoyu/Desktop/yogee/.mujoco/mujoco200/bin\n",
      "2024-07-30 11:36:34.801318: W tensorflow/compiler/xla/stream_executor/platform/default/dso_loader.cc:64] Could not load dynamic library 'libnvinfer_plugin.so.7'; dlerror: libnvinfer_plugin.so.7: cannot open shared object file: No such file or directory; LD_LIBRARY_PATH: /usr/local/cuda-11.8/lib64:/usr/local/cuda/lib64:/usr/lib/nvidia:/opt/ros/foxy/opt/yaml_cpp_vendor/lib:/opt/ros/foxy/opt/rviz_ogre_vendor/lib:/opt/ros/foxy/lib/x86_64-linux-gnu:/opt/ros/foxy/lib:/home/xiaoyu/Desktop/yogee/.mujoco/mujoco200/bin\n",
      "2024-07-30 11:36:34.801328: W tensorflow/compiler/tf2tensorrt/utils/py_utils.cc:38] TF-TRT Warning: Cannot dlopen some TensorRT libraries. If you would like to use Nvidia GPU with TensorRT, please make sure the missing libraries mentioned above are installed properly.\n",
      "free(): invalid pointer\n"
     ]
    }
   ],
   "source": [
    "import os\n",
    "os.chdir( '/home/xiaoyu/Desktop/yogee/dexmv-sim/examples/')\n",
    "\n",
    "!python3 visualize_policy.py --env_name=trained_model_12DOF/dapg_relocate-mug-0.8_relocate-mug_0.8_100_trpo_seed200/iterations/best_policy --object_name=mug"
   ]
  },
  {
   "cell_type": "code",
   "execution_count": 3,
   "metadata": {},
   "outputs": [
    {
     "name": "stdout",
     "output_type": "stream",
     "text": [
      "Creating window glfw\n",
      "2024-07-30 11:37:03.996533: I tensorflow/core/platform/cpu_feature_guard.cc:193] This TensorFlow binary is optimized with oneAPI Deep Neural Network Library (oneDNN) to use the following CPU instructions in performance-critical operations:  AVX2 FMA\n",
      "To enable them in other operations, rebuild TensorFlow with the appropriate compiler flags.\n",
      "2024-07-30 11:37:04.677556: W tensorflow/compiler/xla/stream_executor/platform/default/dso_loader.cc:64] Could not load dynamic library 'libnvinfer.so.7'; dlerror: libnvinfer.so.7: cannot open shared object file: No such file or directory; LD_LIBRARY_PATH: /usr/local/cuda-11.8/lib64:/usr/local/cuda/lib64:/usr/lib/nvidia:/opt/ros/foxy/opt/yaml_cpp_vendor/lib:/opt/ros/foxy/opt/rviz_ogre_vendor/lib:/opt/ros/foxy/lib/x86_64-linux-gnu:/opt/ros/foxy/lib:/home/xiaoyu/Desktop/yogee/.mujoco/mujoco200/bin\n",
      "2024-07-30 11:37:04.677638: W tensorflow/compiler/xla/stream_executor/platform/default/dso_loader.cc:64] Could not load dynamic library 'libnvinfer_plugin.so.7'; dlerror: libnvinfer_plugin.so.7: cannot open shared object file: No such file or directory; LD_LIBRARY_PATH: /usr/local/cuda-11.8/lib64:/usr/local/cuda/lib64:/usr/lib/nvidia:/opt/ros/foxy/opt/yaml_cpp_vendor/lib:/opt/ros/foxy/opt/rviz_ogre_vendor/lib:/opt/ros/foxy/lib/x86_64-linux-gnu:/opt/ros/foxy/lib:/home/xiaoyu/Desktop/yogee/.mujoco/mujoco200/bin\n",
      "2024-07-30 11:37:04.677645: W tensorflow/compiler/tf2tensorrt/utils/py_utils.cc:38] TF-TRT Warning: Cannot dlopen some TensorRT libraries. If you would like to use Nvidia GPU with TensorRT, please make sure the missing libraries mentioned above are installed properly.\n",
      "free(): invalid pointer\n"
     ]
    }
   ],
   "source": [
    "import os\n",
    "os.chdir( '/home/xiaoyu/Desktop/yogee/dexmv-sim/examples/')\n",
    "\n",
    "!python3 visualize_policy.py --env_name=trained_model_12DOF/dapg_relocate-mug-0.8_relocate-mug_0.6_100_trpo_seed200/iterations/best_policy --object_name=mug"
   ]
  },
  {
   "cell_type": "code",
   "execution_count": 10,
   "metadata": {},
   "outputs": [
    {
     "name": "stdout",
     "output_type": "stream",
     "text": [
      "Creating window glfw\n",
      "2024-07-30 11:53:02.650039: I tensorflow/core/platform/cpu_feature_guard.cc:193] This TensorFlow binary is optimized with oneAPI Deep Neural Network Library (oneDNN) to use the following CPU instructions in performance-critical operations:  AVX2 FMA\n",
      "To enable them in other operations, rebuild TensorFlow with the appropriate compiler flags.\n",
      "2024-07-30 11:53:03.320660: W tensorflow/compiler/xla/stream_executor/platform/default/dso_loader.cc:64] Could not load dynamic library 'libnvinfer.so.7'; dlerror: libnvinfer.so.7: cannot open shared object file: No such file or directory; LD_LIBRARY_PATH: /usr/local/cuda-11.8/lib64:/usr/local/cuda/lib64:/usr/lib/nvidia:/opt/ros/foxy/opt/yaml_cpp_vendor/lib:/opt/ros/foxy/opt/rviz_ogre_vendor/lib:/opt/ros/foxy/lib/x86_64-linux-gnu:/opt/ros/foxy/lib:/home/xiaoyu/Desktop/yogee/.mujoco/mujoco200/bin\n",
      "2024-07-30 11:53:03.320780: W tensorflow/compiler/xla/stream_executor/platform/default/dso_loader.cc:64] Could not load dynamic library 'libnvinfer_plugin.so.7'; dlerror: libnvinfer_plugin.so.7: cannot open shared object file: No such file or directory; LD_LIBRARY_PATH: /usr/local/cuda-11.8/lib64:/usr/local/cuda/lib64:/usr/lib/nvidia:/opt/ros/foxy/opt/yaml_cpp_vendor/lib:/opt/ros/foxy/opt/rviz_ogre_vendor/lib:/opt/ros/foxy/lib/x86_64-linux-gnu:/opt/ros/foxy/lib:/home/xiaoyu/Desktop/yogee/.mujoco/mujoco200/bin\n",
      "2024-07-30 11:53:03.320788: W tensorflow/compiler/tf2tensorrt/utils/py_utils.cc:38] TF-TRT Warning: Cannot dlopen some TensorRT libraries. If you would like to use Nvidia GPU with TensorRT, please make sure the missing libraries mentioned above are installed properly.\n",
      "free(): invalid pointer\n"
     ]
    }
   ],
   "source": [
    "import os\n",
    "os.chdir( '/home/xiaoyu/Desktop/yogee/dexmv-sim/examples/')\n",
    "\n",
    "!python3 visualize_policy.py --env_name=trained_model_12DOF/dapg_relocate-mug-0.8_relocate-mug_0.1_100_trpo_seed200/iterations/best_policy --object_name=mug"
   ]
  },
  {
   "cell_type": "markdown",
   "metadata": {},
   "source": [
    "# Test model on different objects"
   ]
  },
  {
   "cell_type": "code",
   "execution_count": 9,
   "metadata": {},
   "outputs": [
    {
     "name": "stdout",
     "output_type": "stream",
     "text": [
      "Creating window glfw\n",
      "2024-07-30 11:48:48.498751: I tensorflow/core/platform/cpu_feature_guard.cc:193] This TensorFlow binary is optimized with oneAPI Deep Neural Network Library (oneDNN) to use the following CPU instructions in performance-critical operations:  AVX2 FMA\n",
      "To enable them in other operations, rebuild TensorFlow with the appropriate compiler flags.\n",
      "2024-07-30 11:48:49.179564: W tensorflow/compiler/xla/stream_executor/platform/default/dso_loader.cc:64] Could not load dynamic library 'libnvinfer.so.7'; dlerror: libnvinfer.so.7: cannot open shared object file: No such file or directory; LD_LIBRARY_PATH: /usr/local/cuda-11.8/lib64:/usr/local/cuda/lib64:/usr/lib/nvidia:/opt/ros/foxy/opt/yaml_cpp_vendor/lib:/opt/ros/foxy/opt/rviz_ogre_vendor/lib:/opt/ros/foxy/lib/x86_64-linux-gnu:/opt/ros/foxy/lib:/home/xiaoyu/Desktop/yogee/.mujoco/mujoco200/bin\n",
      "2024-07-30 11:48:49.179622: W tensorflow/compiler/xla/stream_executor/platform/default/dso_loader.cc:64] Could not load dynamic library 'libnvinfer_plugin.so.7'; dlerror: libnvinfer_plugin.so.7: cannot open shared object file: No such file or directory; LD_LIBRARY_PATH: /usr/local/cuda-11.8/lib64:/usr/local/cuda/lib64:/usr/lib/nvidia:/opt/ros/foxy/opt/yaml_cpp_vendor/lib:/opt/ros/foxy/opt/rviz_ogre_vendor/lib:/opt/ros/foxy/lib/x86_64-linux-gnu:/opt/ros/foxy/lib:/home/xiaoyu/Desktop/yogee/.mujoco/mujoco200/bin\n",
      "2024-07-30 11:48:49.179630: W tensorflow/compiler/tf2tensorrt/utils/py_utils.cc:38] TF-TRT Warning: Cannot dlopen some TensorRT libraries. If you would like to use Nvidia GPU with TensorRT, please make sure the missing libraries mentioned above are installed properly.\n",
      "total reward -1.3045683047588632\n",
      "free(): invalid pointer\n"
     ]
    }
   ],
   "source": [
    "import os\n",
    "os.chdir( '/home/xiaoyu/Desktop/yogee/dexmv-sim/examples/')\n",
    "\n",
    "# !python3 visualize_policy.py --env_name=test_300 --object_name=mug\n",
    "\n",
    "# !python3 visualize_policy.py --env_name=test_300 --object_name=tomato_soup_can\n",
    "!python3 visualize_policy.py --env_name=test_300 --object_name=mustard_bottle\n",
    "# !python3 visualize_policy.py --env_name=test_300 --object_name=potted_meat_can\n",
    "# !python3 visualize_policy.py --env_name=test_300 --object_name=banana\n",
    "# !python3 visualize_policy.py --env_name=test_300 --object_name=mug\n",
    "# !python3 visualize_policy.py --env_name=test_300 --object_name=large_clamp\n",
    "# !python3 visualize_policy.py --env_name=test_300 --object_name=foam_brick"
   ]
  },
  {
   "cell_type": "markdown",
   "metadata": {},
   "source": [
    "# Simulation in mujoco"
   ]
  },
  {
   "cell_type": "code",
   "execution_count": 19,
   "metadata": {},
   "outputs": [
    {
     "name": "stdout",
     "output_type": "stream",
     "text": [
      "MuJoCo Pro version 2.00\n"
     ]
    }
   ],
   "source": [
    "import os\n",
    "os.chdir( '/home/xiaoyu/Desktop/yogee/.mujoco/mujoco200/bin/')\n",
    "!./simulate ~/Desktop/yogee/dexmv-sim/hand_imitation/env/models/assets/inspire/urdf/handright9253.xml \n"
   ]
  },
  {
   "cell_type": "markdown",
   "metadata": {},
   "source": [
    "# To open tensorboard (Open local host to view graphs during training)"
   ]
  },
  {
   "cell_type": "code",
   "execution_count": 17,
   "metadata": {},
   "outputs": [
    {
     "name": "stdout",
     "output_type": "stream",
     "text": [
      "2024-06-28 18:12:55.260412: I tensorflow/core/platform/cpu_feature_guard.cc:193] This TensorFlow binary is optimized with oneAPI Deep Neural Network Library (oneDNN) to use the following CPU instructions in performance-critical operations:  AVX2 FMA\n",
      "To enable them in other operations, rebuild TensorFlow with the appropriate compiler flags.\n",
      "2024-06-28 18:12:55.907962: W tensorflow/compiler/xla/stream_executor/platform/default/dso_loader.cc:64] Could not load dynamic library 'libnvinfer.so.7'; dlerror: libnvinfer.so.7: cannot open shared object file: No such file or directory; LD_LIBRARY_PATH: /home/xiaoyu/Desktop/yogee/.mujoco/mujoco200/bin:/usr/lib/nvidia:/home/xiaoyu/anaconda3/envs/dexmv/lib/python3.8/site-packages/tensorrt_libs:/home/xiaoyu/anaconda3/envs/dexmv/lib/python3.8/site-packages/tensorrt\n",
      "2024-06-28 18:12:55.908030: W tensorflow/compiler/xla/stream_executor/platform/default/dso_loader.cc:64] Could not load dynamic library 'libnvinfer_plugin.so.7'; dlerror: libnvinfer_plugin.so.7: cannot open shared object file: No such file or directory; LD_LIBRARY_PATH: /home/xiaoyu/Desktop/yogee/.mujoco/mujoco200/bin:/usr/lib/nvidia:/home/xiaoyu/anaconda3/envs/dexmv/lib/python3.8/site-packages/tensorrt_libs:/home/xiaoyu/anaconda3/envs/dexmv/lib/python3.8/site-packages/tensorrt\n",
      "2024-06-28 18:12:55.908038: W tensorflow/compiler/tf2tensorrt/utils/py_utils.cc:38] TF-TRT Warning: Cannot dlopen some TensorRT libraries. If you would like to use Nvidia GPU with TensorRT, please make sure the missing libraries mentioned above are installed properly.\n",
      "2024-06-28 18:12:58.134930: I tensorflow/compiler/xla/stream_executor/cuda/cuda_gpu_executor.cc:981] successful NUMA node read from SysFS had negative value (-1), but there must be at least one NUMA node, so returning NUMA node zero\n",
      "2024-06-28 18:12:58.198487: W tensorflow/compiler/xla/stream_executor/platform/default/dso_loader.cc:64] Could not load dynamic library 'libcudnn.so.8'; dlerror: libcudnn.so.8: cannot open shared object file: No such file or directory; LD_LIBRARY_PATH: /home/xiaoyu/Desktop/yogee/.mujoco/mujoco200/bin:/usr/lib/nvidia:/home/xiaoyu/anaconda3/envs/dexmv/lib/python3.8/site-packages/tensorrt_libs:/home/xiaoyu/anaconda3/envs/dexmv/lib/python3.8/site-packages/tensorrt\n",
      "2024-06-28 18:12:58.198518: W tensorflow/core/common_runtime/gpu/gpu_device.cc:1934] Cannot dlopen some GPU libraries. Please make sure the missing libraries mentioned above are installed properly if you would like to use GPU. Follow the guide at https://www.tensorflow.org/install/gpu for how to download and setup the required libraries for your platform.\n",
      "Skipping registering GPU devices...\n",
      "\n",
      "NOTE: Using experimental fast data loading logic. To disable, pass\n",
      "    \"--load_fast=false\" and report issues on GitHub. More details:\n",
      "    https://github.com/tensorflow/tensorboard/issues/4784\n",
      "\n",
      "Serving TensorBoard on localhost; to expose to the network, use a proxy or pass --bind_all\n",
      "TensorBoard 2.11.2 at http://localhost:6006/ (Press CTRL+C to quit)\n",
      "^C\n"
     ]
    }
   ],
   "source": [
    "import os\n",
    "\n",
    "os.chdir('/home/xiaoyu/Desktop/yogee/dexmv-sim/examples/training_log/dapg_relocate-mug-0.8_relocate-mug_0.1_100_trpo_seed200/tensorboard_logs')\n",
    "!tensorboard --logdir=.\n"
   ]
  }
 ],
 "metadata": {
  "kernelspec": {
   "display_name": "Python 3 (ipykernel)",
   "language": "python",
   "name": "python3"
  },
  "language_info": {
   "codemirror_mode": {
    "name": "ipython",
    "version": 3
   },
   "file_extension": ".py",
   "mimetype": "text/x-python",
   "name": "python",
   "nbconvert_exporter": "python",
   "pygments_lexer": "ipython3",
   "version": "3.7.11"
  }
 },
 "nbformat": 4,
 "nbformat_minor": 2
}
