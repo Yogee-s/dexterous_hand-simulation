{
 "cells": [
  {
   "cell_type": "markdown",
   "metadata": {},
   "source": [
    "# Visualisation of reallocating tomato can"
   ]
  },
  {
   "cell_type": "code",
   "execution_count": null,
   "metadata": {},
   "outputs": [],
   "source": [
    "import os\n",
    "os.chdir( '/home/xiaoyu/Desktop/yogee/dexmv-sim/examples/')\n",
    "\n",
    "!python3 visualize_policy.py --env_name=relocate --object_name=mug"
   ]
  },
  {
   "cell_type": "markdown",
   "metadata": {},
   "source": [
    "# Visualisation of pouring"
   ]
  },
  {
   "cell_type": "code",
   "execution_count": null,
   "metadata": {},
   "outputs": [],
   "source": [
    "import os\n",
    "os.chdir( '/home/xiaoyu/Desktop/yogee/dexmv-sim/examples/')\n",
    "\n",
    "!python visualize_policy.py --env_name=pour"
   ]
  },
  {
   "cell_type": "markdown",
   "metadata": {},
   "source": [
    "# Original labelling of different parts"
   ]
  },
  {
   "cell_type": "code",
   "execution_count": null,
   "metadata": {},
   "outputs": [],
   "source": [
    "'''\n",
    "Link 1/2, joint01 + joint12 - index inside\n",
    "Link 3, joint23 - index bottom shell\n",
    "Link 4, joint34 - index tip\n",
    "Link 5, joint05 - hand index stick\n",
    "\n",
    "\n",
    "Link 11/12, joint011 + joint1112 - middle inside\n",
    "Link 13, joint1213 - middle bottom shell\n",
    "Link 14, joint1314 - midle tip\n",
    "Link 15, joint015 - hand middle stick\n",
    "\n",
    "Link 21/22, joint021 + joint2122 - ring inside\n",
    "Link 23, joint2223 - ring bottom shell\n",
    "Link 24, joint2324 - ring tip\n",
    "Link 25, joint025- hand ring stick\n",
    "\n",
    "\n",
    "Link 31/32, joint031 + joint3132 - pinky inside\n",
    "Link 33, joint3233 - pinky bottom shell\n",
    "Link 34, joint3334 - pinky tip\n",
    "Link 35, joint035- hand pinky stick\n",
    "\n",
    "Link 41, joint041 - thumb inside roation (protrudes)\n",
    "Link 42, joint4142 - thumb extend \n",
    "Link 43, joint4243 - thumb rotation (without protrudes)\n",
    "Link 44, joint4344 - thumb lower shell\n",
    "Link 45, joint4445 - thumb bottom inside\n",
    "Link 46, joint4546 - thumb middle extension\n",
    "Link 47, joint4647 - thumb middle shell\n",
    "Link 48, joint4748 - thumb tip\n",
    "Link 49, joint4449 - thumb middle-tip stick\n",
    "Link 50, joint4350 - thumb lower stick\n",
    "\n",
    "30 + 6 movement joints = 36\n",
    "'''\n",
    "\n",
    "'''\n",
    "R_thumb_MCP_joint1\n",
    "R_thumb_MCP_joint2\n",
    "R_thumb_PIP_joint\n",
    "R_thumb_DIP_joint\n",
    "\n",
    "R_index_MCP_joint\n",
    "R_index_DIP_joint\n",
    "\n",
    "R_middle_MCP_joint\n",
    "R_middle_DIP_joint\n",
    "\n",
    "R_ring_MCP_joint\n",
    "R_ring_DIP_joint\n",
    "\n",
    "R_pinky_MCP_joint\n",
    "R_pinky_DIP_joint\n",
    "\n",
    "12 + 6 movement joints = 18\n",
    "\n",
    "'''\n",
    "\n",
    "'''\n",
    "Original: 30 joints\n",
    "Actuators:30 Actuators\n",
    "\n",
    "'''"
   ]
  },
  {
   "cell_type": "markdown",
   "metadata": {},
   "source": [
    "# Retargeting videos to robot hand"
   ]
  },
  {
   "cell_type": "code",
   "execution_count": null,
   "metadata": {},
   "outputs": [],
   "source": [
    "import os\n",
    "os.chdir( '/home/xiaoyu/Desktop/yogee/dexmv-sim/examples/')\n",
    "\n",
    "!python retarget_human_hand.py --hand_dir=./retargeting_source/relocate_mustard_example_seq/hand_pose --output_file=relocate-mustard_bottle.pkl"
   ]
  },
  {
   "cell_type": "code",
   "execution_count": null,
   "metadata": {},
   "outputs": [],
   "source": [
    "import os\n",
    "os.chdir( '/home/xiaoyu/Desktop/yogee/dexmv-sim/examples/')\n",
    "\n",
    "!python visualize_retargeting.py --retargeting_result=../demonstrations_retargeted/relocate-mustard_bottle.pkl --object_dir=./retargeting_source/relocate_mustard_example_seq/object_pose"
   ]
  },
  {
   "cell_type": "code",
   "execution_count": null,
   "metadata": {},
   "outputs": [],
   "source": [
    "import os\n",
    "os.chdir( '/home/xiaoyu/Desktop/yogee/dexmv-sim/examples/')\n",
    "\n",
    "!python visualize_retargeting.py --retargeting_result=../demonstrations/relocate-mustard_bottle.pkl --object_dir=./retargeting_source/relocate_mustard_example_seq/object_pose"
   ]
  },
  {
   "cell_type": "markdown",
   "metadata": {},
   "source": [
    "# Analying environment"
   ]
  },
  {
   "cell_type": "code",
   "execution_count": null,
   "metadata": {},
   "outputs": [],
   "source": [
    "import gym\n",
    "\n",
    "# List all available environments\n",
    "env_names = list(gym.envs.registry.keys())\n",
    "print(env_names)\n",
    "print()\n",
    "\n",
    "# Create an environment\n",
    "env = gym.make('CartPole-v0')\n",
    "\n",
    "# Access the observation space\n",
    "obs_space = env.observation_space\n",
    "\n",
    "print(\"Observation Space:\", obs_space)\n",
    "print(\"Observation Space Type:\", type(obs_space))\n",
    "\n",
    "# If the observation space is of type Box, we can print more details\n",
    "if isinstance(obs_space, gym.spaces.Box):\n",
    "    print(\"Shape:\", obs_space.shape)\n",
    "    print(\"High:\", obs_space.high)\n",
    "    print(\"Low:\", obs_space.low)\n",
    "\n",
    "# Example observation\n",
    "observation = env.reset()\n",
    "print(\"Sample observation:\", observation)\n"
   ]
  },
  {
   "cell_type": "code",
   "execution_count": null,
   "metadata": {},
   "outputs": [],
   "source": [
    "import numpy as np\n",
    "from hand_imitation.env.environments.ycb_relocate_env import YCBRelocate\n",
    "\n",
    "def inspect_env(env):\n",
    "    print(\"\\nInspecting Environment:\")\n",
    "\n",
    "    try:\n",
    "        state = env.reset()\n",
    "        print(\"Initial State:\", state)\n",
    "    except Exception as e:\n",
    "        print(f\"Error during env.reset(): {e}\")\n",
    "\n",
    "    try:\n",
    "        if hasattr(env, 'action_spec'):\n",
    "            print(\"\\nAction Spec:\")\n",
    "            print(\"Action Lower Bound:\", env.action_spec[0])\n",
    "            print(\"Action Upper Bound:\", env.action_spec[1])\n",
    "\n",
    "        if hasattr(env, 'observation_spec'):\n",
    "            print(\"\\nObservation Spec:\")\n",
    "            obs_spec = env.observation_spec()\n",
    "            print(obs_spec)\n",
    "\n",
    "        if hasattr(env, 'act_mid') and hasattr(env, 'act_rng'):\n",
    "            print(\"\\nAction Mid and Range:\")\n",
    "            print(\"Action Midpoint:\", env.act_mid)\n",
    "            print(\"Action Range:\", env.act_rng)\n",
    "\n",
    "        action = np.random.uniform(env.action_spec[0], env.action_spec[1])\n",
    "        next_state, reward, done, info = env.step(action)\n",
    "        print(\"\\nNext State after taking a random action:\")\n",
    "        print(next_state)\n",
    "        print(\"Reward:\", reward)\n",
    "        print(\"Done:\", done)\n",
    "        print(\"Info:\", info)\n",
    "    except Exception as e:\n",
    "        print(f\"Error during env.step(): {e}\")\n",
    "\n",
    "if __name__ == \"__main__\":\n",
    "    friction = (1, 0.5, 0.01)\n",
    "    relocate_env = YCBRelocate(has_renderer=False, object_name='potted_meat_can', friction=friction, object_scale=0.8,\n",
    "                               solref=\"-6000 -300\", randomness_scale=0.25)\n",
    "    inspect_env(relocate_env)\n"
   ]
  },
  {
   "cell_type": "markdown",
   "metadata": {},
   "source": [
    "# Trying random action"
   ]
  },
  {
   "cell_type": "code",
   "execution_count": null,
   "metadata": {},
   "outputs": [],
   "source": [
    "import os\n",
    "os.chdir( '/home/xiaoyu/Desktop/yogee/dexmv-sim/examples/')\n",
    "\n",
    "!python3 pour_water_random_action.py\n",
    "# !python3 relocate_random_action.py\n",
    "# !python3 place_inside_random_action.py"
   ]
  },
  {
   "cell_type": "markdown",
   "metadata": {},
   "source": [
    "# Simulation in mujoco with old urdf file"
   ]
  },
  {
   "cell_type": "code",
   "execution_count": null,
   "metadata": {},
   "outputs": [],
   "source": [
    "import os\n",
    "os.chdir( '/home/xiaoyu/Desktop/yogee/.mujoco/mujoco200/bin/')\n",
    "!./simulate ~/Desktop/yogee/dexmv-sim/hand_imitation/env/models/assets/inspire/meshes/handright9253.urdf\n"
   ]
  }
 ],
 "metadata": {
  "kernelspec": {
   "display_name": "dexmv",
   "language": "python",
   "name": "python3"
  },
  "language_info": {
   "name": "python",
   "version": "3.7.11"
  }
 },
 "nbformat": 4,
 "nbformat_minor": 2
}
